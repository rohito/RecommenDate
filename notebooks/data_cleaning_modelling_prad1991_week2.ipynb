{
  "cells": [
    {
      "cell_type": "code",
      "execution_count": 1,
      "metadata": {
        "id": "e5b91ef4"
      },
      "outputs": [],
      "source": [
        "from google.colab import drive"
      ],
      "id": "e5b91ef4"
    },
    {
      "cell_type": "code",
      "execution_count": 2,
      "metadata": {
        "colab": {
          "base_uri": "https://localhost:8080/"
        },
        "id": "8ej3q7KbUs8V",
        "outputId": "a5df9df3-c8ff-4ca0-b287-f5bb27db766a"
      },
      "outputs": [
        {
          "output_type": "stream",
          "name": "stdout",
          "text": [
            "Drive already mounted at /content/drive/; to attempt to forcibly remount, call drive.mount(\"/content/drive/\", force_remount=True).\n"
          ]
        }
      ],
      "source": [
        "drive.mount('/content/drive/')"
      ],
      "id": "8ej3q7KbUs8V"
    },
    {
      "cell_type": "code",
      "execution_count": 3,
      "metadata": {
        "colab": {
          "base_uri": "https://localhost:8080/"
        },
        "id": "tosoT5KHWx7D",
        "outputId": "364acd31-75d8-4723-e260-c3453fa94033"
      },
      "outputs": [
        {
          "output_type": "stream",
          "name": "stdout",
          "text": [
            "/content/drive/MyDrive\n"
          ]
        }
      ],
      "source": [
        "cd drive/MyDrive/"
      ],
      "id": "tosoT5KHWx7D"
    },
    {
      "cell_type": "code",
      "execution_count": 4,
      "metadata": {
        "colab": {
          "base_uri": "https://localhost:8080/"
        },
        "id": "LQaxiFroYl5K",
        "outputId": "c7113ba1-6aae-4e3b-ba6b-94decfa8e180"
      },
      "outputs": [
        {
          "output_type": "stream",
          "name": "stderr",
          "text": [
            "[nltk_data] Downloading package punkt to /root/nltk_data...\n",
            "[nltk_data]   Package punkt is already up-to-date!\n",
            "[nltk_data] Downloading package stopwords to /root/nltk_data...\n",
            "[nltk_data]   Package stopwords is already up-to-date!\n",
            "[nltk_data] Downloading package wordnet to /root/nltk_data...\n",
            "[nltk_data]   Package wordnet is already up-to-date!\n",
            "[nltk_data] Downloading package omw-1.4 to /root/nltk_data...\n",
            "[nltk_data]   Package omw-1.4 is already up-to-date!\n"
          ]
        },
        {
          "output_type": "execute_result",
          "data": {
            "text/plain": [
              "True"
            ]
          },
          "metadata": {},
          "execution_count": 4
        }
      ],
      "source": [
        "import nltk\n",
        "nltk.download('punkt')\n",
        "nltk.download('stopwords')\n",
        "nltk.download('wordnet')\n",
        "nltk.download('omw-1.4')"
      ],
      "id": "LQaxiFroYl5K"
    },
    {
      "cell_type": "code",
      "execution_count": 5,
      "metadata": {
        "id": "79ab63a6"
      },
      "outputs": [],
      "source": [
        "import pandas as pd\n",
        "from sklearn.impute import SimpleImputer\n",
        "import matplotlib.pyplot as plt\n",
        "import re\n",
        "import string\n",
        "from nltk.corpus import stopwords\n",
        "import string\n",
        "from nltk.stem.wordnet import WordNetLemmatizer\n",
        "from nltk import word_tokenize\n",
        "import numpy as np\n",
        "from sklearn.feature_extraction.text import TfidfVectorizer\n",
        "from sklearn.decomposition import TruncatedSVD\n",
        "from sklearn.metrics.pairwise import cosine_similarity"
      ],
      "id": "79ab63a6"
    },
    {
      "cell_type": "code",
      "execution_count": 6,
      "metadata": {
        "id": "56a0d136",
        "scrolled": true
      },
      "outputs": [],
      "source": [
        "data=pd.read_csv('dating/okcupid_profiles.csv')"
      ],
      "id": "56a0d136"
    },
    {
      "cell_type": "code",
      "execution_count": 7,
      "metadata": {
        "colab": {
          "base_uri": "https://localhost:8080/",
          "height": 786
        },
        "id": "4ad37693",
        "outputId": "6b2e77bd-46a0-4f01-9487-1ef58dc27f01"
      },
      "outputs": [
        {
          "output_type": "execute_result",
          "data": {
            "text/plain": [
              "   age     status sex orientation       body_type               diet  \\\n",
              "0   22     single   m    straight  a little extra  strictly anything   \n",
              "1   35     single   m    straight         average       mostly other   \n",
              "2   38  available   m    straight            thin           anything   \n",
              "3   23     single   m    straight            thin         vegetarian   \n",
              "4   29     single   m    straight        athletic                NaN   \n",
              "\n",
              "     drinks      drugs                          education  \\\n",
              "0  socially      never      working on college/university   \n",
              "1     often  sometimes              working on space camp   \n",
              "2  socially        NaN     graduated from masters program   \n",
              "3  socially        NaN      working on college/university   \n",
              "4  socially      never  graduated from college/university   \n",
              "\n",
              "             ethnicity  ...  \\\n",
              "0         asian, white  ...   \n",
              "1                white  ...   \n",
              "2                  NaN  ...   \n",
              "3                white  ...   \n",
              "4  asian, black, other  ...   \n",
              "\n",
              "                                              essay0  \\\n",
              "0  about me:  i would love to think that i was so...   \n",
              "1  i am a chef: this is what that means. 1. i am ...   \n",
              "2  i'm not ashamed of much, but writing public te...   \n",
              "3          i work in a library and go to school. . .   \n",
              "4  hey how's it going? currently vague on the pro...   \n",
              "\n",
              "                                              essay1  \\\n",
              "0  currently working as an international agent fo...   \n",
              "1  dedicating everyday to being an unbelievable b...   \n",
              "2  i make nerdy software for musicians, artists, ...   \n",
              "3          reading things written by old dead people   \n",
              "4                         work work work work + play   \n",
              "\n",
              "                                              essay2  \\\n",
              "0  making people laugh. ranting about a good salt...   \n",
              "1  being silly. having ridiculous amonts of fun w...   \n",
              "2  improvising in different contexts. alternating...   \n",
              "3  playing synthesizers and organizing books acco...   \n",
              "4  creating imagery to look at: http://bagsbrown....   \n",
              "\n",
              "                                              essay3  \\\n",
              "0  the way i look. i am a six foot half asian, ha...   \n",
              "1                                                NaN   \n",
              "2  my large jaw and large glasses are the physica...   \n",
              "3                  socially awkward but i do my best   \n",
              "4            i smile a lot and my inquisitive nature   \n",
              "\n",
              "                                              essay4  \\\n",
              "0  books: absurdistan, the republic, of mice and ...   \n",
              "1  i am die hard christopher moore fan. i don't r...   \n",
              "2  okay this is where the cultural matrix gets so...   \n",
              "3  bataille, celine, beckett. . . lynch, jarmusch...   \n",
              "4  music: bands, rappers, musicians at the moment...   \n",
              "\n",
              "                                              essay5  \\\n",
              "0                  food. water. cell phone. shelter.   \n",
              "1  delicious porkness in all of its glories. my b...   \n",
              "2  movement conversation creation contemplation t...   \n",
              "3                                                NaN   \n",
              "4                                                NaN   \n",
              "\n",
              "                        essay6  \\\n",
              "0  duality and humorous things   \n",
              "1                          NaN   \n",
              "2                          NaN   \n",
              "3   cats and german philosophy   \n",
              "4                          NaN   \n",
              "\n",
              "                                              essay7  \\\n",
              "0  trying to find someone to hang out with. i am ...   \n",
              "1                                                NaN   \n",
              "2  viewing. listening. dancing. talking. drinking...   \n",
              "3                                                NaN   \n",
              "4                                                NaN   \n",
              "\n",
              "                                              essay8  \\\n",
              "0  i am new to california and looking for someone...   \n",
              "1  i am very open and will share just about anyth...   \n",
              "2  when i was five years old, i was known as \"the...   \n",
              "3                                                NaN   \n",
              "4                                                NaN   \n",
              "\n",
              "                                              essay9  \n",
              "0  you want to be swept off your feet! you are ti...  \n",
              "1                                                NaN  \n",
              "2  you are bright, open, intense, silly, ironic, ...  \n",
              "3                              you feel so inclined.  \n",
              "4                                                NaN  \n",
              "\n",
              "[5 rows x 31 columns]"
            ],
            "text/html": [
              "\n",
              "  <div id=\"df-b751e260-ada9-42ea-8306-b46a7b8e8add\">\n",
              "    <div class=\"colab-df-container\">\n",
              "      <div>\n",
              "<style scoped>\n",
              "    .dataframe tbody tr th:only-of-type {\n",
              "        vertical-align: middle;\n",
              "    }\n",
              "\n",
              "    .dataframe tbody tr th {\n",
              "        vertical-align: top;\n",
              "    }\n",
              "\n",
              "    .dataframe thead th {\n",
              "        text-align: right;\n",
              "    }\n",
              "</style>\n",
              "<table border=\"1\" class=\"dataframe\">\n",
              "  <thead>\n",
              "    <tr style=\"text-align: right;\">\n",
              "      <th></th>\n",
              "      <th>age</th>\n",
              "      <th>status</th>\n",
              "      <th>sex</th>\n",
              "      <th>orientation</th>\n",
              "      <th>body_type</th>\n",
              "      <th>diet</th>\n",
              "      <th>drinks</th>\n",
              "      <th>drugs</th>\n",
              "      <th>education</th>\n",
              "      <th>ethnicity</th>\n",
              "      <th>...</th>\n",
              "      <th>essay0</th>\n",
              "      <th>essay1</th>\n",
              "      <th>essay2</th>\n",
              "      <th>essay3</th>\n",
              "      <th>essay4</th>\n",
              "      <th>essay5</th>\n",
              "      <th>essay6</th>\n",
              "      <th>essay7</th>\n",
              "      <th>essay8</th>\n",
              "      <th>essay9</th>\n",
              "    </tr>\n",
              "  </thead>\n",
              "  <tbody>\n",
              "    <tr>\n",
              "      <th>0</th>\n",
              "      <td>22</td>\n",
              "      <td>single</td>\n",
              "      <td>m</td>\n",
              "      <td>straight</td>\n",
              "      <td>a little extra</td>\n",
              "      <td>strictly anything</td>\n",
              "      <td>socially</td>\n",
              "      <td>never</td>\n",
              "      <td>working on college/university</td>\n",
              "      <td>asian, white</td>\n",
              "      <td>...</td>\n",
              "      <td>about me:  i would love to think that i was so...</td>\n",
              "      <td>currently working as an international agent fo...</td>\n",
              "      <td>making people laugh. ranting about a good salt...</td>\n",
              "      <td>the way i look. i am a six foot half asian, ha...</td>\n",
              "      <td>books: absurdistan, the republic, of mice and ...</td>\n",
              "      <td>food. water. cell phone. shelter.</td>\n",
              "      <td>duality and humorous things</td>\n",
              "      <td>trying to find someone to hang out with. i am ...</td>\n",
              "      <td>i am new to california and looking for someone...</td>\n",
              "      <td>you want to be swept off your feet! you are ti...</td>\n",
              "    </tr>\n",
              "    <tr>\n",
              "      <th>1</th>\n",
              "      <td>35</td>\n",
              "      <td>single</td>\n",
              "      <td>m</td>\n",
              "      <td>straight</td>\n",
              "      <td>average</td>\n",
              "      <td>mostly other</td>\n",
              "      <td>often</td>\n",
              "      <td>sometimes</td>\n",
              "      <td>working on space camp</td>\n",
              "      <td>white</td>\n",
              "      <td>...</td>\n",
              "      <td>i am a chef: this is what that means. 1. i am ...</td>\n",
              "      <td>dedicating everyday to being an unbelievable b...</td>\n",
              "      <td>being silly. having ridiculous amonts of fun w...</td>\n",
              "      <td>NaN</td>\n",
              "      <td>i am die hard christopher moore fan. i don't r...</td>\n",
              "      <td>delicious porkness in all of its glories. my b...</td>\n",
              "      <td>NaN</td>\n",
              "      <td>NaN</td>\n",
              "      <td>i am very open and will share just about anyth...</td>\n",
              "      <td>NaN</td>\n",
              "    </tr>\n",
              "    <tr>\n",
              "      <th>2</th>\n",
              "      <td>38</td>\n",
              "      <td>available</td>\n",
              "      <td>m</td>\n",
              "      <td>straight</td>\n",
              "      <td>thin</td>\n",
              "      <td>anything</td>\n",
              "      <td>socially</td>\n",
              "      <td>NaN</td>\n",
              "      <td>graduated from masters program</td>\n",
              "      <td>NaN</td>\n",
              "      <td>...</td>\n",
              "      <td>i'm not ashamed of much, but writing public te...</td>\n",
              "      <td>i make nerdy software for musicians, artists, ...</td>\n",
              "      <td>improvising in different contexts. alternating...</td>\n",
              "      <td>my large jaw and large glasses are the physica...</td>\n",
              "      <td>okay this is where the cultural matrix gets so...</td>\n",
              "      <td>movement conversation creation contemplation t...</td>\n",
              "      <td>NaN</td>\n",
              "      <td>viewing. listening. dancing. talking. drinking...</td>\n",
              "      <td>when i was five years old, i was known as \"the...</td>\n",
              "      <td>you are bright, open, intense, silly, ironic, ...</td>\n",
              "    </tr>\n",
              "    <tr>\n",
              "      <th>3</th>\n",
              "      <td>23</td>\n",
              "      <td>single</td>\n",
              "      <td>m</td>\n",
              "      <td>straight</td>\n",
              "      <td>thin</td>\n",
              "      <td>vegetarian</td>\n",
              "      <td>socially</td>\n",
              "      <td>NaN</td>\n",
              "      <td>working on college/university</td>\n",
              "      <td>white</td>\n",
              "      <td>...</td>\n",
              "      <td>i work in a library and go to school. . .</td>\n",
              "      <td>reading things written by old dead people</td>\n",
              "      <td>playing synthesizers and organizing books acco...</td>\n",
              "      <td>socially awkward but i do my best</td>\n",
              "      <td>bataille, celine, beckett. . . lynch, jarmusch...</td>\n",
              "      <td>NaN</td>\n",
              "      <td>cats and german philosophy</td>\n",
              "      <td>NaN</td>\n",
              "      <td>NaN</td>\n",
              "      <td>you feel so inclined.</td>\n",
              "    </tr>\n",
              "    <tr>\n",
              "      <th>4</th>\n",
              "      <td>29</td>\n",
              "      <td>single</td>\n",
              "      <td>m</td>\n",
              "      <td>straight</td>\n",
              "      <td>athletic</td>\n",
              "      <td>NaN</td>\n",
              "      <td>socially</td>\n",
              "      <td>never</td>\n",
              "      <td>graduated from college/university</td>\n",
              "      <td>asian, black, other</td>\n",
              "      <td>...</td>\n",
              "      <td>hey how's it going? currently vague on the pro...</td>\n",
              "      <td>work work work work + play</td>\n",
              "      <td>creating imagery to look at: http://bagsbrown....</td>\n",
              "      <td>i smile a lot and my inquisitive nature</td>\n",
              "      <td>music: bands, rappers, musicians at the moment...</td>\n",
              "      <td>NaN</td>\n",
              "      <td>NaN</td>\n",
              "      <td>NaN</td>\n",
              "      <td>NaN</td>\n",
              "      <td>NaN</td>\n",
              "    </tr>\n",
              "  </tbody>\n",
              "</table>\n",
              "<p>5 rows × 31 columns</p>\n",
              "</div>\n",
              "      <button class=\"colab-df-convert\" onclick=\"convertToInteractive('df-b751e260-ada9-42ea-8306-b46a7b8e8add')\"\n",
              "              title=\"Convert this dataframe to an interactive table.\"\n",
              "              style=\"display:none;\">\n",
              "        \n",
              "  <svg xmlns=\"http://www.w3.org/2000/svg\" height=\"24px\"viewBox=\"0 0 24 24\"\n",
              "       width=\"24px\">\n",
              "    <path d=\"M0 0h24v24H0V0z\" fill=\"none\"/>\n",
              "    <path d=\"M18.56 5.44l.94 2.06.94-2.06 2.06-.94-2.06-.94-.94-2.06-.94 2.06-2.06.94zm-11 1L8.5 8.5l.94-2.06 2.06-.94-2.06-.94L8.5 2.5l-.94 2.06-2.06.94zm10 10l.94 2.06.94-2.06 2.06-.94-2.06-.94-.94-2.06-.94 2.06-2.06.94z\"/><path d=\"M17.41 7.96l-1.37-1.37c-.4-.4-.92-.59-1.43-.59-.52 0-1.04.2-1.43.59L10.3 9.45l-7.72 7.72c-.78.78-.78 2.05 0 2.83L4 21.41c.39.39.9.59 1.41.59.51 0 1.02-.2 1.41-.59l7.78-7.78 2.81-2.81c.8-.78.8-2.07 0-2.86zM5.41 20L4 18.59l7.72-7.72 1.47 1.35L5.41 20z\"/>\n",
              "  </svg>\n",
              "      </button>\n",
              "      \n",
              "  <style>\n",
              "    .colab-df-container {\n",
              "      display:flex;\n",
              "      flex-wrap:wrap;\n",
              "      gap: 12px;\n",
              "    }\n",
              "\n",
              "    .colab-df-convert {\n",
              "      background-color: #E8F0FE;\n",
              "      border: none;\n",
              "      border-radius: 50%;\n",
              "      cursor: pointer;\n",
              "      display: none;\n",
              "      fill: #1967D2;\n",
              "      height: 32px;\n",
              "      padding: 0 0 0 0;\n",
              "      width: 32px;\n",
              "    }\n",
              "\n",
              "    .colab-df-convert:hover {\n",
              "      background-color: #E2EBFA;\n",
              "      box-shadow: 0px 1px 2px rgba(60, 64, 67, 0.3), 0px 1px 3px 1px rgba(60, 64, 67, 0.15);\n",
              "      fill: #174EA6;\n",
              "    }\n",
              "\n",
              "    [theme=dark] .colab-df-convert {\n",
              "      background-color: #3B4455;\n",
              "      fill: #D2E3FC;\n",
              "    }\n",
              "\n",
              "    [theme=dark] .colab-df-convert:hover {\n",
              "      background-color: #434B5C;\n",
              "      box-shadow: 0px 1px 3px 1px rgba(0, 0, 0, 0.15);\n",
              "      filter: drop-shadow(0px 1px 2px rgba(0, 0, 0, 0.3));\n",
              "      fill: #FFFFFF;\n",
              "    }\n",
              "  </style>\n",
              "\n",
              "      <script>\n",
              "        const buttonEl =\n",
              "          document.querySelector('#df-b751e260-ada9-42ea-8306-b46a7b8e8add button.colab-df-convert');\n",
              "        buttonEl.style.display =\n",
              "          google.colab.kernel.accessAllowed ? 'block' : 'none';\n",
              "\n",
              "        async function convertToInteractive(key) {\n",
              "          const element = document.querySelector('#df-b751e260-ada9-42ea-8306-b46a7b8e8add');\n",
              "          const dataTable =\n",
              "            await google.colab.kernel.invokeFunction('convertToInteractive',\n",
              "                                                     [key], {});\n",
              "          if (!dataTable) return;\n",
              "\n",
              "          const docLinkHtml = 'Like what you see? Visit the ' +\n",
              "            '<a target=\"_blank\" href=https://colab.research.google.com/notebooks/data_table.ipynb>data table notebook</a>'\n",
              "            + ' to learn more about interactive tables.';\n",
              "          element.innerHTML = '';\n",
              "          dataTable['output_type'] = 'display_data';\n",
              "          await google.colab.output.renderOutput(dataTable, element);\n",
              "          const docLink = document.createElement('div');\n",
              "          docLink.innerHTML = docLinkHtml;\n",
              "          element.appendChild(docLink);\n",
              "        }\n",
              "      </script>\n",
              "    </div>\n",
              "  </div>\n",
              "  "
            ]
          },
          "metadata": {},
          "execution_count": 7
        }
      ],
      "source": [
        "data.head()"
      ],
      "id": "4ad37693"
    },
    {
      "cell_type": "markdown",
      "metadata": {
        "id": "b86e2dfb"
      },
      "source": [
        "# Age, body type, education, jobs, pets and speaks"
      ],
      "id": "b86e2dfb"
    },
    {
      "cell_type": "markdown",
      "metadata": {
        "id": "d0008f0e"
      },
      "source": [
        "## Age"
      ],
      "id": "d0008f0e"
    },
    {
      "cell_type": "code",
      "execution_count": 8,
      "metadata": {
        "colab": {
          "base_uri": "https://localhost:8080/"
        },
        "id": "94c62127",
        "outputId": "6ca4359a-950b-4c6d-9385-9c749930766c"
      },
      "outputs": [
        {
          "output_type": "execute_result",
          "data": {
            "text/plain": [
              "26     3724\n",
              "27     3685\n",
              "28     3583\n",
              "25     3531\n",
              "29     3295\n",
              "24     3242\n",
              "30     3149\n",
              "31     2735\n",
              "23     2592\n",
              "32     2587\n",
              "33     2206\n",
              "22     1934\n",
              "34     1902\n",
              "35     1755\n",
              "36     1583\n",
              "37     1427\n",
              "38     1330\n",
              "21     1282\n",
              "39     1172\n",
              "42     1072\n",
              "40     1030\n",
              "41      980\n",
              "20      953\n",
              "43      858\n",
              "44      708\n",
              "45      643\n",
              "19      611\n",
              "46      578\n",
              "47      529\n",
              "48      481\n",
              "49      459\n",
              "50      437\n",
              "51      350\n",
              "52      344\n",
              "18      309\n",
              "56      271\n",
              "54      267\n",
              "55      265\n",
              "57      256\n",
              "53      252\n",
              "59      221\n",
              "58      197\n",
              "60      195\n",
              "61      176\n",
              "62      167\n",
              "63      138\n",
              "64      113\n",
              "65      109\n",
              "66      105\n",
              "67       66\n",
              "68       59\n",
              "69       31\n",
              "110       1\n",
              "109       1\n",
              "Name: age, dtype: int64"
            ]
          },
          "metadata": {},
          "execution_count": 8
        }
      ],
      "source": [
        "data.age.value_counts()"
      ],
      "id": "94c62127"
    },
    {
      "cell_type": "code",
      "execution_count": 9,
      "metadata": {
        "colab": {
          "base_uri": "https://localhost:8080/"
        },
        "id": "0787dbcf",
        "outputId": "37e0003b-ebdd-4374-f324-657056d2e710"
      },
      "outputs": [
        {
          "output_type": "execute_result",
          "data": {
            "text/plain": [
              "False    59946\n",
              "Name: age, dtype: int64"
            ]
          },
          "metadata": {},
          "execution_count": 9
        }
      ],
      "source": [
        "data.age.isna().value_counts()"
      ],
      "id": "0787dbcf"
    },
    {
      "cell_type": "markdown",
      "metadata": {
        "id": "f252a10a"
      },
      "source": [
        "### Nothing to work on age as there are no null values"
      ],
      "id": "f252a10a"
    },
    {
      "cell_type": "markdown",
      "metadata": {
        "id": "cb808399"
      },
      "source": [
        "## Body Type"
      ],
      "id": "cb808399"
    },
    {
      "cell_type": "code",
      "execution_count": 10,
      "metadata": {
        "colab": {
          "base_uri": "https://localhost:8080/"
        },
        "id": "5b8c9d3d",
        "outputId": "ffad65e3-b7b7-4046-eaec-5bfa0d0ba3ee"
      },
      "outputs": [
        {
          "output_type": "execute_result",
          "data": {
            "text/plain": [
              "average           14652\n",
              "fit               12711\n",
              "athletic          11819\n",
              "thin               4711\n",
              "curvy              3924\n",
              "a little extra     2629\n",
              "skinny             1777\n",
              "full figured       1009\n",
              "overweight          444\n",
              "jacked              421\n",
              "used up             355\n",
              "rather not say      198\n",
              "Name: body_type, dtype: int64"
            ]
          },
          "metadata": {},
          "execution_count": 10
        }
      ],
      "source": [
        "data.body_type.value_counts()"
      ],
      "id": "5b8c9d3d"
    },
    {
      "cell_type": "code",
      "execution_count": 11,
      "metadata": {
        "colab": {
          "base_uri": "https://localhost:8080/"
        },
        "id": "f3928192",
        "outputId": "dcbcc478-ab82-4a41-99eb-ea65de9ea417"
      },
      "outputs": [
        {
          "output_type": "execute_result",
          "data": {
            "text/plain": [
              "False    54650\n",
              "True      5296\n",
              "Name: body_type, dtype: int64"
            ]
          },
          "metadata": {},
          "execution_count": 11
        }
      ],
      "source": [
        "data.body_type.isna().value_counts()"
      ],
      "id": "f3928192"
    },
    {
      "cell_type": "code",
      "execution_count": 12,
      "metadata": {
        "id": "e2c9a244"
      },
      "outputs": [],
      "source": [
        "data.body_type=data.body_type.fillna('rather not say')"
      ],
      "id": "e2c9a244"
    },
    {
      "cell_type": "markdown",
      "metadata": {
        "id": "e4b9b13e"
      },
      "source": [
        "## Education\n",
        "\n"
      ],
      "id": "e4b9b13e"
    },
    {
      "cell_type": "code",
      "execution_count": 13,
      "metadata": {
        "colab": {
          "base_uri": "https://localhost:8080/"
        },
        "id": "43ca067d",
        "outputId": "23d1dc61-da6b-4da2-9b66-47aee95a7158"
      },
      "outputs": [
        {
          "output_type": "execute_result",
          "data": {
            "text/plain": [
              "graduated from college/university    23959\n",
              "graduated from masters program        8961\n",
              "working on college/university         5712\n",
              "working on masters program            1683\n",
              "graduated from two-year college       1531\n",
              "graduated from high school            1428\n",
              "graduated from ph.d program           1272\n",
              "graduated from law school             1122\n",
              "working on two-year college           1074\n",
              "dropped out of college/university      995\n",
              "working on ph.d program                983\n",
              "college/university                     801\n",
              "graduated from space camp              657\n",
              "dropped out of space camp              523\n",
              "graduated from med school              446\n",
              "working on space camp                  445\n",
              "working on law school                  269\n",
              "two-year college                       222\n",
              "working on med school                  212\n",
              "dropped out of two-year college        191\n",
              "dropped out of masters program         140\n",
              "masters program                        136\n",
              "dropped out of ph.d program            127\n",
              "dropped out of high school             102\n",
              "high school                             96\n",
              "working on high school                  87\n",
              "space camp                              58\n",
              "ph.d program                            26\n",
              "law school                              19\n",
              "dropped out of law school               18\n",
              "dropped out of med school               12\n",
              "med school                              11\n",
              "Name: education, dtype: int64"
            ]
          },
          "metadata": {},
          "execution_count": 13
        }
      ],
      "source": [
        "data.education.value_counts()"
      ],
      "id": "43ca067d"
    },
    {
      "cell_type": "code",
      "execution_count": 14,
      "metadata": {
        "colab": {
          "base_uri": "https://localhost:8080/"
        },
        "id": "dc1cdd66",
        "outputId": "1f725100-7eb5-4538-eb13-d0bfd606ba72"
      },
      "outputs": [
        {
          "output_type": "execute_result",
          "data": {
            "text/plain": [
              "False    53318\n",
              "True      6628\n",
              "Name: education, dtype: int64"
            ]
          },
          "metadata": {},
          "execution_count": 14
        }
      ],
      "source": [
        "data.education.isna().value_counts()"
      ],
      "id": "dc1cdd66"
    },
    {
      "cell_type": "code",
      "execution_count": 15,
      "metadata": {
        "id": "66175d3e"
      },
      "outputs": [],
      "source": [
        "data.education=data.education.fillna('graduated from college/university').value_counts()"
      ],
      "id": "66175d3e"
    },
    {
      "cell_type": "markdown",
      "metadata": {
        "id": "4c2c6b0a"
      },
      "source": [
        "## Jobs"
      ],
      "id": "4c2c6b0a"
    },
    {
      "cell_type": "code",
      "execution_count": 16,
      "metadata": {
        "colab": {
          "base_uri": "https://localhost:8080/"
        },
        "id": "a814891a",
        "outputId": "37a4af68-6a1c-4f0b-da22-3b4fece2c54d"
      },
      "outputs": [
        {
          "output_type": "execute_result",
          "data": {
            "text/plain": [
              "other                                7589\n",
              "student                              4882\n",
              "science / tech / engineering         4848\n",
              "computer / hardware / software       4709\n",
              "artistic / musical / writer          4439\n",
              "sales / marketing / biz dev          4391\n",
              "medicine / health                    3680\n",
              "education / academia                 3513\n",
              "executive / management               2373\n",
              "banking / financial / real estate    2266\n",
              "entertainment / media                2250\n",
              "law / legal services                 1381\n",
              "hospitality / travel                 1364\n",
              "construction / craftsmanship         1021\n",
              "clerical / administrative             805\n",
              "political / government                708\n",
              "rather not say                        436\n",
              "transportation                        366\n",
              "unemployed                            273\n",
              "retired                               250\n",
              "military                              204\n",
              "Name: job, dtype: int64"
            ]
          },
          "metadata": {},
          "execution_count": 16
        }
      ],
      "source": [
        "data.job.value_counts()"
      ],
      "id": "a814891a"
    },
    {
      "cell_type": "code",
      "execution_count": 17,
      "metadata": {
        "colab": {
          "base_uri": "https://localhost:8080/"
        },
        "id": "5d3e1341",
        "outputId": "b607accd-95c0-491e-d4fc-7bff98a41ed6"
      },
      "outputs": [
        {
          "output_type": "execute_result",
          "data": {
            "text/plain": [
              "False    51748\n",
              "True      8198\n",
              "Name: job, dtype: int64"
            ]
          },
          "metadata": {},
          "execution_count": 17
        }
      ],
      "source": [
        "data.job.isna().value_counts()"
      ],
      "id": "5d3e1341"
    },
    {
      "cell_type": "code",
      "execution_count": 18,
      "metadata": {
        "colab": {
          "base_uri": "https://localhost:8080/",
          "height": 429
        },
        "id": "b9c650ea",
        "outputId": "c8b34747-38f6-41a9-98c2-5071809f5178"
      },
      "outputs": [
        {
          "output_type": "execute_result",
          "data": {
            "text/plain": [
              "<matplotlib.axes._subplots.AxesSubplot at 0x7fd99964efd0>"
            ]
          },
          "metadata": {},
          "execution_count": 18
        },
        {
          "output_type": "display_data",
          "data": {
            "text/plain": [
              "<Figure size 432x288 with 1 Axes>"
            ],
            "image/png": "[encoded data removed]"
          },
          "metadata": {
            "needs_background": "light"
          }
        }
      ],
      "source": [
        "data.job.value_counts().plot(kind='bar')"
      ],
      "id": "b9c650ea"
    },
    {
      "cell_type": "code",
      "execution_count": 19,
      "metadata": {
        "id": "afbc9b5f"
      },
      "outputs": [],
      "source": [
        "data.job=data.job.fillna('other')"
      ],
      "id": "afbc9b5f"
    },
    {
      "cell_type": "code",
      "execution_count": 20,
      "metadata": {
        "colab": {
          "base_uri": "https://localhost:8080/",
          "height": 429
        },
        "id": "3ac42ff8",
        "outputId": "8ccb3644-dd93-4da3-bb67-8f5f878143d7"
      },
      "outputs": [
        {
          "output_type": "execute_result",
          "data": {
            "text/plain": [
              "<matplotlib.axes._subplots.AxesSubplot at 0x7fd9994a1690>"
            ]
          },
          "metadata": {},
          "execution_count": 20
        },
        {
          "output_type": "display_data",
          "data": {
            "text/plain": [
              "<Figure size 432x288 with 1 Axes>"
            ],
            "image/png": "[encoded data removed]"
          },
          "metadata": {
            "needs_background": "light"
          }
        }
      ],
      "source": [
        "data.job.value_counts().plot(kind='bar')"
      ],
      "id": "3ac42ff8"
    },
    {
      "cell_type": "markdown",
      "metadata": {
        "id": "7c9a34e6"
      },
      "source": [
        "## pets"
      ],
      "id": "7c9a34e6"
    },
    {
      "cell_type": "code",
      "execution_count": 21,
      "metadata": {
        "colab": {
          "base_uri": "https://localhost:8080/"
        },
        "id": "38b700cd",
        "outputId": "393dd969-e5c3-47ce-a00e-a32be5d21757"
      },
      "outputs": [
        {
          "output_type": "execute_result",
          "data": {
            "text/plain": [
              "likes dogs and likes cats          14814\n",
              "likes dogs                          7224\n",
              "likes dogs and has cats             4313\n",
              "has dogs                            4134\n",
              "has dogs and likes cats             2333\n",
              "likes dogs and dislikes cats        2029\n",
              "has dogs and has cats               1474\n",
              "has cats                            1406\n",
              "likes cats                          1063\n",
              "has dogs and dislikes cats           552\n",
              "dislikes dogs and likes cats         240\n",
              "dislikes dogs and dislikes cats      196\n",
              "dislikes cats                        122\n",
              "dislikes dogs and has cats            81\n",
              "dislikes dogs                         44\n",
              "Name: pets, dtype: int64"
            ]
          },
          "metadata": {},
          "execution_count": 21
        }
      ],
      "source": [
        "data.pets.value_counts()"
      ],
      "id": "38b700cd"
    },
    {
      "cell_type": "code",
      "execution_count": 22,
      "metadata": {
        "colab": {
          "base_uri": "https://localhost:8080/"
        },
        "id": "457d8061",
        "outputId": "87c35e0a-0179-40b7-a698-476e046c3662"
      },
      "outputs": [
        {
          "output_type": "execute_result",
          "data": {
            "text/plain": [
              "False    40025\n",
              "True     19921\n",
              "Name: pets, dtype: int64"
            ]
          },
          "metadata": {},
          "execution_count": 22
        }
      ],
      "source": [
        "data.pets.isna().value_counts()"
      ],
      "id": "457d8061"
    },
    {
      "cell_type": "code",
      "execution_count": 23,
      "metadata": {
        "id": "b90074ec"
      },
      "outputs": [],
      "source": [
        "data.pets=data.pets.fillna('likes dogs and likes cats')"
      ],
      "id": "b90074ec"
    },
    {
      "cell_type": "code",
      "execution_count": 24,
      "metadata": {
        "colab": {
          "base_uri": "https://localhost:8080/"
        },
        "id": "cedc1705",
        "outputId": "2a51eaa3-69b6-4285-ed75-3ecb68d465b4",
        "scrolled": true
      },
      "outputs": [
        {
          "output_type": "execute_result",
          "data": {
            "text/plain": [
              "likes dogs and likes cats          34735\n",
              "likes dogs                          7224\n",
              "likes dogs and has cats             4313\n",
              "has dogs                            4134\n",
              "has dogs and likes cats             2333\n",
              "likes dogs and dislikes cats        2029\n",
              "has dogs and has cats               1474\n",
              "has cats                            1406\n",
              "likes cats                          1063\n",
              "has dogs and dislikes cats           552\n",
              "dislikes dogs and likes cats         240\n",
              "dislikes dogs and dislikes cats      196\n",
              "dislikes cats                        122\n",
              "dislikes dogs and has cats            81\n",
              "dislikes dogs                         44\n",
              "Name: pets, dtype: int64"
            ]
          },
          "metadata": {},
          "execution_count": 24
        }
      ],
      "source": [
        "data.pets.value_counts()"
      ],
      "id": "cedc1705"
    },
    {
      "cell_type": "markdown",
      "metadata": {
        "id": "1379022b"
      },
      "source": [
        "## speaks"
      ],
      "id": "1379022b"
    },
    {
      "cell_type": "code",
      "execution_count": 25,
      "metadata": {
        "colab": {
          "base_uri": "https://localhost:8080/"
        },
        "id": "65e2d49b",
        "outputId": "aa085ed6-c4ae-43bc-a24d-0342de486899"
      },
      "outputs": [
        {
          "output_type": "execute_result",
          "data": {
            "text/plain": [
              "english                                                                21828\n",
              "english (fluently)                                                      6628\n",
              "english (fluently), spanish (poorly)                                    2059\n",
              "english (fluently), spanish (okay)                                      1917\n",
              "english (fluently), spanish (fluently)                                  1288\n",
              "                                                                       ...  \n",
              "english (fluently), urdu (poorly), japanese (poorly), french (okay)        1\n",
              "english, spanish, hindi, c++                                               1\n",
              "english (fluently), japanese (okay), thai (okay), chinese (poorly)         1\n",
              "english (fluently), french (okay), italian (okay), hebrew (okay)           1\n",
              "english (fluently), french, farsi                                          1\n",
              "Name: speaks, Length: 7647, dtype: int64"
            ]
          },
          "metadata": {},
          "execution_count": 25
        }
      ],
      "source": [
        "data.speaks.value_counts()"
      ],
      "id": "65e2d49b"
    },
    {
      "cell_type": "code",
      "execution_count": 26,
      "metadata": {
        "colab": {
          "base_uri": "https://localhost:8080/"
        },
        "id": "8ec24164",
        "outputId": "73bfe286-3166-4f44-dde8-8ed239603c75"
      },
      "outputs": [
        {
          "output_type": "execute_result",
          "data": {
            "text/plain": [
              "False    59896\n",
              "True        50\n",
              "Name: speaks, dtype: int64"
            ]
          },
          "metadata": {},
          "execution_count": 26
        }
      ],
      "source": [
        "data.speaks.isna().value_counts()"
      ],
      "id": "8ec24164"
    },
    {
      "cell_type": "code",
      "execution_count": 27,
      "metadata": {
        "id": "e078a426"
      },
      "outputs": [],
      "source": [
        "data.speaks=data.speaks.fillna('english')"
      ],
      "id": "e078a426"
    },
    {
      "cell_type": "code",
      "execution_count": 28,
      "metadata": {
        "colab": {
          "base_uri": "https://localhost:8080/"
        },
        "id": "b56636b7",
        "outputId": "9e3f1d3a-143c-4546-a2fa-0d2c66efed36",
        "scrolled": true
      },
      "outputs": [
        {
          "output_type": "execute_result",
          "data": {
            "text/plain": [
              "english                                                                21878\n",
              "english (fluently)                                                      6628\n",
              "english (fluently), spanish (poorly)                                    2059\n",
              "english (fluently), spanish (okay)                                      1917\n",
              "english (fluently), spanish (fluently)                                  1288\n",
              "                                                                       ...  \n",
              "english (fluently), urdu (poorly), japanese (poorly), french (okay)        1\n",
              "english, spanish, hindi, c++                                               1\n",
              "english (fluently), japanese (okay), thai (okay), chinese (poorly)         1\n",
              "english (fluently), french (okay), italian (okay), hebrew (okay)           1\n",
              "english (fluently), french, farsi                                          1\n",
              "Name: speaks, Length: 7647, dtype: int64"
            ]
          },
          "metadata": {},
          "execution_count": 28
        }
      ],
      "source": [
        "data.speaks.value_counts()"
      ],
      "id": "b56636b7"
    },
    {
      "cell_type": "code",
      "execution_count": 29,
      "metadata": {
        "id": "1d2cefc9"
      },
      "outputs": [],
      "source": [
        "def clean (text):\n",
        "    for punctuation in string.punctuation:\n",
        "        text = text.replace(punctuation, ' ') # Remove Punctuation\n",
        "    lowercased = text.lower() # Lower Case\n",
        "    tokenized = word_tokenize(lowercased) # Tokenize\n",
        "    words_only = [word for word in tokenized if word.isalpha()] # Remove numbers\n",
        "    stop_words = set(stopwords.words('english')) # Make stopword list\n",
        "    without_stopwords = [word for word in words_only if not word in stop_words] # Remove Stop Words\n",
        "    lemma=WordNetLemmatizer() # Initiate Lemmatizer\n",
        "    lemmatized = [lemma.lemmatize(word) for word in without_stopwords] # Lemmatize\n",
        "    return lemmatized"
      ],
      "id": "1d2cefc9"
    },
    {
      "cell_type": "code",
      "execution_count": 30,
      "metadata": {
        "id": "db6a6918"
      },
      "outputs": [],
      "source": [
        "def primary_language(text):\n",
        "    primary_lang=[]\n",
        "    number_of_languages=[]\n",
        "    counter=0\n",
        "    if 'fluently' in text:\n",
        "        primary_lang.append(text[text.index('fluently')-1])\n",
        "        counter=counter+1\n",
        "    else:\n",
        "        primary_lang.append(text[0])\n",
        "\n",
        "    if 'poorly' in text:\n",
        "        counter=counter+1\n",
        "    if 'okay' in text:\n",
        "        counter=counter+1\n",
        "    number_of_languages.append(len(text)-counter)\n",
        "    return primary_lang,number_of_languages"
      ],
      "id": "db6a6918"
    },
    {
      "cell_type": "code",
      "execution_count": 31,
      "metadata": {
        "id": "d7a2b29f"
      },
      "outputs": [],
      "source": [
        "data['speaks_cleaned']=data.speaks.apply(lambda x:clean(x))"
      ],
      "id": "d7a2b29f"
    },
    {
      "cell_type": "code",
      "execution_count": 32,
      "metadata": {
        "id": "cc9cff53",
        "scrolled": true
      },
      "outputs": [],
      "source": [
        "data['primary_language']=data.speaks_cleaned.apply(lambda x:primary_language(x)).apply(pd.Series)[0]"
      ],
      "id": "cc9cff53"
    },
    {
      "cell_type": "code",
      "execution_count": 33,
      "metadata": {
        "id": "4667e7e2"
      },
      "outputs": [],
      "source": [
        "data['number_of_languages']=data.speaks_cleaned.apply(lambda x:primary_language(x)).apply(pd.Series)[1]"
      ],
      "id": "4667e7e2"
    },
    {
      "cell_type": "code",
      "execution_count": 34,
      "metadata": {
        "id": "83320590"
      },
      "outputs": [],
      "source": [
        "data.primary_language=data.primary_language.apply(lambda x:''.join(x))"
      ],
      "id": "83320590"
    },
    {
      "cell_type": "code",
      "execution_count": 35,
      "metadata": {
        "id": "f280cb5b"
      },
      "outputs": [],
      "source": [
        "data.number_of_languages=data.number_of_languages.apply(lambda x: x[0])"
      ],
      "id": "f280cb5b"
    },
    {
      "cell_type": "markdown",
      "metadata": {
        "id": "934a1b1c"
      },
      "source": [
        "# Essays"
      ],
      "id": "934a1b1c"
    },
    {
      "cell_type": "code",
      "execution_count": 36,
      "metadata": {
        "id": "9355340d"
      },
      "outputs": [],
      "source": [
        "data['essay0']=data['essay0'].fillna('')\n",
        "data['essay0_cleaned']=data['essay0'].apply(lambda x:clean(x))\n",
        "data['essay0_cleaned']=data['essay0_cleaned'].apply(lambda x:' '.join(x))"
      ],
      "id": "9355340d"
    },
    {
      "cell_type": "code",
      "execution_count": 37,
      "metadata": {
        "id": "209d08fe"
      },
      "outputs": [],
      "source": [
        "data['essay1']=data['essay1'].fillna('')\n",
        "data['essay1_cleaned']=data['essay1'].apply(lambda x:clean(x))\n",
        "data['essay1_cleaned']=data['essay1_cleaned'].apply(lambda x:' '.join(x))"
      ],
      "id": "209d08fe"
    },
    {
      "cell_type": "code",
      "execution_count": 38,
      "metadata": {
        "id": "3f2b3c66"
      },
      "outputs": [],
      "source": [
        "data['essay2']=data['essay2'].fillna('')\n",
        "data['essay2_cleaned']=data['essay2'].apply(lambda x:clean(x))\n",
        "data['essay2_cleaned']=data['essay2_cleaned'].apply(lambda x:' '.join(x))"
      ],
      "id": "3f2b3c66"
    },
    {
      "cell_type": "code",
      "execution_count": 39,
      "metadata": {
        "id": "74763abd"
      },
      "outputs": [],
      "source": [
        "data['essay3']=data['essay3'].fillna('')\n",
        "data['essay3_cleaned']=data['essay3'].apply(lambda x:clean(x))\n",
        "data['essay3_cleaned']=data['essay3_cleaned'].apply(lambda x:' '.join(x))"
      ],
      "id": "74763abd"
    },
    {
      "cell_type": "code",
      "execution_count": 40,
      "metadata": {
        "id": "1ddc611b"
      },
      "outputs": [],
      "source": [
        "data['essay4']=data['essay4'].fillna('')\n",
        "data['essay4_cleaned']=data['essay4'].apply(lambda x:clean(x))\n",
        "data['essay4_cleaned']=data['essay4_cleaned'].apply(lambda x:' '.join(x))"
      ],
      "id": "1ddc611b"
    },
    {
      "cell_type": "code",
      "execution_count": 41,
      "metadata": {
        "id": "5ff24822"
      },
      "outputs": [],
      "source": [
        "data['essay5']=data['essay5'].fillna('')\n",
        "data['essay5_cleaned']=data['essay5'].apply(lambda x:clean(x))\n",
        "data['essay5_cleaned']=data['essay5_cleaned'].apply(lambda x:' '.join(x))"
      ],
      "id": "5ff24822"
    },
    {
      "cell_type": "code",
      "execution_count": 42,
      "metadata": {
        "id": "b40cdfbb"
      },
      "outputs": [],
      "source": [
        "data['essay6']=data['essay6'].fillna('')\n",
        "data['essay6_cleaned']=data['essay6'].apply(lambda x:clean(x))\n",
        "data['essay6_cleaned']=data['essay6_cleaned'].apply(lambda x:' '.join(x))"
      ],
      "id": "b40cdfbb"
    },
    {
      "cell_type": "code",
      "execution_count": 43,
      "metadata": {
        "id": "78d737c1",
        "scrolled": true
      },
      "outputs": [],
      "source": [
        "data['essay7']=data['essay7'].fillna('')\n",
        "data['essay7_cleaned']=data['essay7'].apply(lambda x:clean(x))\n",
        "data['essay7_cleaned']=data['essay7_cleaned'].apply(lambda x:' '.join(x))"
      ],
      "id": "78d737c1"
    },
    {
      "cell_type": "code",
      "execution_count": 44,
      "metadata": {
        "id": "00f2f72a"
      },
      "outputs": [],
      "source": [
        "data['essay8']=data['essay8'].fillna('')\n",
        "data['essay8_cleaned']=data['essay8'].apply(lambda x:clean(x))\n",
        "data['essay8_cleaned']=data['essay8_cleaned'].apply(lambda x:' '.join(x))"
      ],
      "id": "00f2f72a"
    },
    {
      "cell_type": "code",
      "execution_count": 45,
      "metadata": {
        "id": "bd65a54c"
      },
      "outputs": [],
      "source": [
        "data['essay9']=data['essay9'].fillna('')\n",
        "data['essay9_cleaned']=data['essay9'].apply(lambda x:clean(x))\n",
        "data['essay9_cleaned']=data['essay9_cleaned'].apply(lambda x:' '.join(x))"
      ],
      "id": "bd65a54c"
    },
    {
      "cell_type": "code",
      "execution_count": 46,
      "metadata": {
        "colab": {
          "base_uri": "https://localhost:8080/"
        },
        "id": "19bafcc6",
        "outputId": "01599c87-819c-49a5-ecbc-03e3e2e1de93"
      },
      "outputs": [
        {
          "output_type": "execute_result",
          "data": {
            "text/plain": [
              "0        duality humorous thingtrying find someone hang...\n",
              "1                                      open share anything\n",
              "2        viewing listening dancing talking drinking per...\n",
              "3                       cat german philosophyfeel inclined\n",
              "4                                                         \n",
              "                               ...                        \n",
              "59941    writing bookrunning dog finishing work week lo...\n",
              "59942    thinking bus work usually seat across smell li...\n",
              "59943    aside work improve homeenjoying friendly conve...\n",
              "59944    make someone chucklewould day everydays friday...\n",
              "59945    sex people amazing everything fucked everythin...\n",
              "Length: 59946, dtype: object"
            ]
          },
          "metadata": {},
          "execution_count": 46
        }
      ],
      "source": [
        "data['essay']=data['essay0_cleaned']+data['essay1_cleaned']+data['essay2_cleaned']+data['essay3_cleaned']+data['essay4_cleaned']+data['essay5_cleaned']+data['essay6_cleaned']\n",
        "+data['essay6_cleaned']+data['essay7_cleaned']+data['essay8_cleaned']+data['essay9_cleaned']"
      ],
      "id": "19bafcc6"
    },
    {
      "cell_type": "markdown",
      "source": [
        "#Truncated SVD"
      ],
      "metadata": {
        "id": "qkHMYs5Rj5WM"
      },
      "id": "qkHMYs5Rj5WM"
    },
    {
      "cell_type": "code",
      "source": [
        "def vectorizer(essay):\n",
        "  vectorizer = TfidfVectorizer(max_df=0.85,ngram_range=(3,3))\n",
        "  data_vectorized = vectorizer.fit_transform(essay)\n",
        "  vocab = vectorizer.get_feature_names_out()\n",
        "  return data_vectorized,vocab"
      ],
      "metadata": {
        "id": "znJz_u7zd6RM"
      },
      "id": "znJz_u7zd6RM",
      "execution_count": 68,
      "outputs": []
    },
    {
      "cell_type": "code",
      "source": [
        "def decomposition(n_components,essay):\n",
        "  vectorized_data,vocab=vectorizer(essay)\n",
        "  svd=TruncatedSVD(n_components=n_components,n_iter=20)\n",
        "  decompose=pd.DataFrame(svd.fit_transform(vectorized_data),index=essay)\n",
        "  components=svd.components_\n",
        "  svd_components=pd.DataFrame(components,columns=vocab)\n",
        "  svd_explained=svd.explained_variance_ratio_\n",
        "  return decompose,svd_components,svd_explained"
      ],
      "metadata": {
        "id": "7Qbc_I2meY79"
      },
      "id": "7Qbc_I2meY79",
      "execution_count": 69,
      "outputs": []
    },
    {
      "cell_type": "code",
      "execution_count": 70,
      "metadata": {
        "id": "hWsfrgiud4We"
      },
      "outputs": [],
      "source": [
        "def similarity(decompose,index):\n",
        "  vector=np.array(decompose.iloc[index]).reshape(1,-1)\n",
        "  sim=cosine_similarity(decompose,vector).reshape(-1)\n",
        "  return pd.DataFrame(sim,columns=['similarity']).sort_values(by='similarity',ascending=False)"
      ],
      "id": "hWsfrgiud4We"
    },
    {
      "cell_type": "code",
      "source": [
        "def get_topic(components,n_components,number_of_words):\n",
        "  topics=[]\n",
        "  for i in range(n_components):\n",
        "    X=pd.DataFrame(svd_components.iloc[i].sort_values(ascending=False))\n",
        "    topics.append(', '.join(X.reset_index()['index'][:number_of_words]))\n",
        "  return topics"
      ],
      "metadata": {
        "id": "Ppms_PV748zr"
      },
      "id": "Ppms_PV748zr",
      "execution_count": 71,
      "outputs": []
    },
    {
      "cell_type": "code",
      "source": [
        "def matching_topics(decompose,i,j,components):\n",
        "  contribution_matrix=[]\n",
        "  sum_i=[]\n",
        "  sum_j=[]\n",
        "  for k in range(len(components)):\n",
        "    contribution_matrix.append(decompose.iloc[i][k]*decompose.iloc[j][k])\n",
        "    sum_i.append(decompose.iloc[i][k]*decompose.iloc[i][k])\n",
        "    sum_j.append(decompose.iloc[j][k]*decompose.iloc[j][k])\n",
        "  sim2=cosine_similarity(np.expand_dims(np.array(decompose.iloc[i]),0),np.expand_dims(np.array(decompose.iloc[j]),0))  \n",
        "  sim=np.sum(contribution_matrix)/np.sqrt(np.sum(sum_i)*np.sum(sum_j))\n",
        "  contribution_matrix=np.array(contribution_matrix/sim)\n",
        "  return np.argsort(contribution_matrix)[::-1][:5],sim"
      ],
      "metadata": {
        "id": "6LX_rC6cCYaD"
      },
      "id": "6LX_rC6cCYaD",
      "execution_count": 72,
      "outputs": []
    },
    {
      "cell_type": "code",
      "source": [
        "def similarity_matrix(topics,decompose,interest_index,svd_components):\n",
        "  \n",
        "  df=pd.DataFrame()\n",
        "  for i in range(len(decompose)):\n",
        "    match_topic=[]\n",
        "    for k in range(len(matching_topics(decompose,interest_index,i,svd_components)[0])):\n",
        "      match_topic.append(topics[matching_topics(decompose,interest_index,i,svd_components)[0][k]])\n",
        "    df=df.append(pd.DataFrame(match_topic).T)\n",
        "  return df"
      ],
      "metadata": {
        "id": "aQfKNMpWHIy_"
      },
      "id": "aQfKNMpWHIy_",
      "execution_count": 73,
      "outputs": []
    },
    {
      "cell_type": "code",
      "source": [
        "n_components=300"
      ],
      "metadata": {
        "id": "L0W0HWwM1bnQ"
      },
      "id": "L0W0HWwM1bnQ",
      "execution_count": 74,
      "outputs": []
    },
    {
      "cell_type": "code",
      "source": [
        "decompose,svd_components,svd_explained=decomposition(n_components,data.essay0)"
      ],
      "metadata": {
        "id": "JXDPWaeqFEA7"
      },
      "id": "JXDPWaeqFEA7",
      "execution_count": 75,
      "outputs": []
    },
    {
      "cell_type": "code",
      "source": [
        "sim=similarity(decompose,0)"
      ],
      "metadata": {
        "id": "8r2z-hCKs-b1"
      },
      "id": "8r2z-hCKs-b1",
      "execution_count": 76,
      "outputs": []
    },
    {
      "cell_type": "code",
      "source": [
        "sim.head(5)"
      ],
      "metadata": {
        "colab": {
          "base_uri": "https://localhost:8080/",
          "height": 206
        },
        "id": "pqVu_9fGu9Yb",
        "outputId": "c1645871-9ec2-4e6f-ca9c-a6346607310a"
      },
      "id": "pqVu_9fGu9Yb",
      "execution_count": 77,
      "outputs": [
        {
          "output_type": "execute_result",
          "data": {
            "text/plain": [
              "       similarity\n",
              "0        1.000000\n",
              "21822    0.853860\n",
              "13204    0.815189\n",
              "1817     0.806985\n",
              "38185    0.797170"
            ],
            "text/html": [
              "\n",
              "  <div id=\"df-9cac6e8c-ac28-4788-8bc5-c984e514d86c\">\n",
              "    <div class=\"colab-df-container\">\n",
              "      <div>\n",
              "<style scoped>\n",
              "    .dataframe tbody tr th:only-of-type {\n",
              "        vertical-align: middle;\n",
              "    }\n",
              "\n",
              "    .dataframe tbody tr th {\n",
              "        vertical-align: top;\n",
              "    }\n",
              "\n",
              "    .dataframe thead th {\n",
              "        text-align: right;\n",
              "    }\n",
              "</style>\n",
              "<table border=\"1\" class=\"dataframe\">\n",
              "  <thead>\n",
              "    <tr style=\"text-align: right;\">\n",
              "      <th></th>\n",
              "      <th>similarity</th>\n",
              "    </tr>\n",
              "  </thead>\n",
              "  <tbody>\n",
              "    <tr>\n",
              "      <th>0</th>\n",
              "      <td>1.000000</td>\n",
              "    </tr>\n",
              "    <tr>\n",
              "      <th>21822</th>\n",
              "      <td>0.853860</td>\n",
              "    </tr>\n",
              "    <tr>\n",
              "      <th>13204</th>\n",
              "      <td>0.815189</td>\n",
              "    </tr>\n",
              "    <tr>\n",
              "      <th>1817</th>\n",
              "      <td>0.806985</td>\n",
              "    </tr>\n",
              "    <tr>\n",
              "      <th>38185</th>\n",
              "      <td>0.797170</td>\n",
              "    </tr>\n",
              "  </tbody>\n",
              "</table>\n",
              "</div>\n",
              "      <button class=\"colab-df-convert\" onclick=\"convertToInteractive('df-9cac6e8c-ac28-4788-8bc5-c984e514d86c')\"\n",
              "              title=\"Convert this dataframe to an interactive table.\"\n",
              "              style=\"display:none;\">\n",
              "        \n",
              "  <svg xmlns=\"http://www.w3.org/2000/svg\" height=\"24px\"viewBox=\"0 0 24 24\"\n",
              "       width=\"24px\">\n",
              "    <path d=\"M0 0h24v24H0V0z\" fill=\"none\"/>\n",
              "    <path d=\"M18.56 5.44l.94 2.06.94-2.06 2.06-.94-2.06-.94-.94-2.06-.94 2.06-2.06.94zm-11 1L8.5 8.5l.94-2.06 2.06-.94-2.06-.94L8.5 2.5l-.94 2.06-2.06.94zm10 10l.94 2.06.94-2.06 2.06-.94-2.06-.94-.94-2.06-.94 2.06-2.06.94z\"/><path d=\"M17.41 7.96l-1.37-1.37c-.4-.4-.92-.59-1.43-.59-.52 0-1.04.2-1.43.59L10.3 9.45l-7.72 7.72c-.78.78-.78 2.05 0 2.83L4 21.41c.39.39.9.59 1.41.59.51 0 1.02-.2 1.41-.59l7.78-7.78 2.81-2.81c.8-.78.8-2.07 0-2.86zM5.41 20L4 18.59l7.72-7.72 1.47 1.35L5.41 20z\"/>\n",
              "  </svg>\n",
              "      </button>\n",
              "      \n",
              "  <style>\n",
              "    .colab-df-container {\n",
              "      display:flex;\n",
              "      flex-wrap:wrap;\n",
              "      gap: 12px;\n",
              "    }\n",
              "\n",
              "    .colab-df-convert {\n",
              "      background-color: #E8F0FE;\n",
              "      border: none;\n",
              "      border-radius: 50%;\n",
              "      cursor: pointer;\n",
              "      display: none;\n",
              "      fill: #1967D2;\n",
              "      height: 32px;\n",
              "      padding: 0 0 0 0;\n",
              "      width: 32px;\n",
              "    }\n",
              "\n",
              "    .colab-df-convert:hover {\n",
              "      background-color: #E2EBFA;\n",
              "      box-shadow: 0px 1px 2px rgba(60, 64, 67, 0.3), 0px 1px 3px 1px rgba(60, 64, 67, 0.15);\n",
              "      fill: #174EA6;\n",
              "    }\n",
              "\n",
              "    [theme=dark] .colab-df-convert {\n",
              "      background-color: #3B4455;\n",
              "      fill: #D2E3FC;\n",
              "    }\n",
              "\n",
              "    [theme=dark] .colab-df-convert:hover {\n",
              "      background-color: #434B5C;\n",
              "      box-shadow: 0px 1px 3px 1px rgba(0, 0, 0, 0.15);\n",
              "      filter: drop-shadow(0px 1px 2px rgba(0, 0, 0, 0.3));\n",
              "      fill: #FFFFFF;\n",
              "    }\n",
              "  </style>\n",
              "\n",
              "      <script>\n",
              "        const buttonEl =\n",
              "          document.querySelector('#df-9cac6e8c-ac28-4788-8bc5-c984e514d86c button.colab-df-convert');\n",
              "        buttonEl.style.display =\n",
              "          google.colab.kernel.accessAllowed ? 'block' : 'none';\n",
              "\n",
              "        async function convertToInteractive(key) {\n",
              "          const element = document.querySelector('#df-9cac6e8c-ac28-4788-8bc5-c984e514d86c');\n",
              "          const dataTable =\n",
              "            await google.colab.kernel.invokeFunction('convertToInteractive',\n",
              "                                                     [key], {});\n",
              "          if (!dataTable) return;\n",
              "\n",
              "          const docLinkHtml = 'Like what you see? Visit the ' +\n",
              "            '<a target=\"_blank\" href=https://colab.research.google.com/notebooks/data_table.ipynb>data table notebook</a>'\n",
              "            + ' to learn more about interactive tables.';\n",
              "          element.innerHTML = '';\n",
              "          dataTable['output_type'] = 'display_data';\n",
              "          await google.colab.output.renderOutput(dataTable, element);\n",
              "          const docLink = document.createElement('div');\n",
              "          docLink.innerHTML = docLinkHtml;\n",
              "          element.appendChild(docLink);\n",
              "        }\n",
              "      </script>\n",
              "    </div>\n",
              "  </div>\n",
              "  "
            ]
          },
          "metadata": {},
          "execution_count": 77
        }
      ]
    },
    {
      "cell_type": "code",
      "source": [
        "topics=get_topic(svd_components,n_components,25)"
      ],
      "metadata": {
        "id": "lHKQfdJktNzT"
      },
      "id": "lHKQfdJktNzT",
      "execution_count": 78,
      "outputs": []
    },
    {
      "cell_type": "code",
      "source": [
        "decompose.columns=topics"
      ],
      "metadata": {
        "id": "75PUB2Ustpjx"
      },
      "id": "75PUB2Ustpjx",
      "execution_count": 79,
      "outputs": []
    },
    {
      "cell_type": "code",
      "source": [
        "decompose.head(1)"
      ],
      "metadata": {
        "colab": {
          "base_uri": "https://localhost:8080/",
          "height": 1000
        },
        "id": "PxWCLh4Z1KwM",
        "outputId": "4f858f4d-08af-4d22-8d14-18bfc2c82aad"
      },
      "id": "PxWCLh4Z1KwM",
      "execution_count": 80,
      "outputs": [
        {
          "output_type": "execute_result",
          "data": {
            "text/plain": [
              "                                                    the bay area, in the bay, born and raised, to the bay, in san francisco, and raised in, to meet new, looking to meet, looking for someone, meet new people, sense of humor, grew up in, to san francisco, moved to the, get to know, am looking for, down to earth, just moved to, moved to san, to have fun, new people and, meeting new people, love to travel, in the city, you want to  \\\n",
              "essay0                                                                                                                                                                                                                                                                                                                                                                                                                                           \n",
              "about me:  i would love to think that i was som...                                           0.015662                                                                                                                                                                                                                                                                                                                                            \n",
              "\n",
              "                                                    the bay area, in the bay, born and raised, and raised in, to the bay, raised in the, was born and, in san francisco, bay area for, grew up in, bay area and, moved to the, raised in san, up in the, living in the, lived in the, went to college, been living in, the east coast, raised in sf, back to the, been in the, bay area from, have lived in, living in san  \\\n",
              "essay0                                                                                                                                                                                                                                                                                                                                                                                                                       \n",
              "about me:  i would love to think that i was som...                                          -0.006143                                                                                                                                                                                                                                                                                                                        \n",
              "\n",
              "                                                    to meet new, looking to meet, meet new people, the bay area, just moved to, to the bay, moved to the, to san francisco, new people and, moved to san, meet new friends, and looking to, in the bay, to meet some, just looking to, am looking to, recently moved to, new to the, san francisco from, meet some new, bay area from, like to meet, born and raised, and raised in, some new people  \\\n",
              "essay0                                                                                                                                                                                                                                                                                                                                                                                                                                                 \n",
              "about me:  i would love to think that i was som...                                          -0.011451                                                                                                                                                                                                                                                                                                                                                  \n",
              "\n",
              "                                                    get to know, to know me, you want to, if you want, want to know, to get to, to know more, the bay area, born and raised, and raised in, in the bay, you get to, want to get, me if you, to meet new, to the bay, message me if, raised in the, once you get, looking to meet, was born and, meet new people, know more about, more about me, know more just  \\\n",
              "essay0                                                                                                                                                                                                                                                                                                                                                                                                            \n",
              "about me:  i would love to think that i was som...                                          -0.007698                                                                                                                                                                                                                                                                                                             \n",
              "\n",
              "                                                    born and raised, and raised in, in san francisco, was born and, raised in san, raised in the, to meet new, meet new people, living in san, raised in sf, san francisco for, san francisco and, to san francisco, moved to san, looking to meet, new people and, live in san, in san diego, san francisco love, lived in san, been living in, meeting new people, my name is, in the city, meet new friends  \\\n",
              "essay0                                                                                                                                                                                                                                                                                                                                                                                                                                                           \n",
              "about me:  i would love to think that i was som...                                          -0.000611                                                                                                                                                                                                                                                                                                                                                            \n",
              "\n",
              "                                                    to san francisco, moved to san, just moved to, work in progress, san francisco from, recently moved to, san francisco and, in san francisco, the east coast, grew up in, from the east, san francisco for, san francisco in, moved to sf, to know me, get to know, and moved to, you want to, moved to the, francisco from the, the city and, if you want, want to know, francisco from la, francisco and looking  \\\n",
              "essay0                                                                                                                                                                                                                                                                                                                                                                                                                                                                  \n",
              "about me:  i would love to think that i was som...                                           -0.00296                                                                                                                                                                                                                                                                                                                                                                   \n",
              "\n",
              "                                                    work in progress, is work in, this is work, to meet new, meet new people, always work in, in progress just, not work in, in the bay, major work in, the bay area, looking to meet, am work in, progress just like, to be continued, in progress and, in progress to, progress to be, sense of humor, profile is work, just like me, profile am work, born and raised, and raised in, progress when get  \\\n",
              "essay0                                                                                                                                                                                                                                                                                                                                                                                                                                                       \n",
              "about me:  i would love to think that i was som...                                           0.000739                                                                                                                                                                                                                                                                                                                                                        \n",
              "\n",
              "                                                    get to know, to know me, to get to, you get to, once you get, and get to, looking for someone, but once you, know me you, at first but, shy at first, know me and, me and get, to know someone, just get to, know me is, am looking for, for someone to, message me and, sense of humor, in san francisco, for someone who, the best way, way to get, best way to  \\\n",
              "essay0                                                                                                                                                                                                                                                                                                                                                                                                                  \n",
              "about me:  i would love to think that i was som...                                          -0.001628                                                                                                                                                                                                                                                                                                                   \n",
              "\n",
              "                                                    looking for someone, for someone to, born and raised, and raised in, am looking for, for someone who, just moved to, to have fun, moved to san, to san francisco, raised in the, was born and, moved to the, and looking for, to the bay, someone who is, someone to share, and am looking, someone to have, san francisco from, raised in sf, recently moved to, someone who can, the bay area, have fun and  \\\n",
              "essay0                                                                                                                                                                                                                                                                                                                                                                                                                                                              \n",
              "about me:  i would love to think that i was som...                                           0.000528                                                                                                                                                                                                                                                                                                                                                               \n",
              "\n",
              "                                                    looking for someone, in san francisco, for someone to, living in san, for someone who, am looking for, san francisco for, been living in, someone to share, looking to meet, someone who is, and looking for, and am looking, san francisco and, grew up in, live in san, you want to, lived in san, ve been living, someone who can, if you want, want to know, francisco for years, someone to have, to meet new  \\\n",
              "essay0                                                                                                                                                                                                                                                                                                                                                                                                                                                                   \n",
              "about me:  i would love to think that i was som...                                           -0.00456                                                                                                                                                                                                                                                                                                                                                                    \n",
              "\n",
              "                                                    ...  \\\n",
              "essay0                                              ...   \n",
              "about me:  i would love to think that i was som...  ...   \n",
              "\n",
              "                                                    like to play, and go to, go to school, and ready to, what do you, life is to, guy looking to, the right person, single and ready, do you want, was born and, ready to mingle, listen to music, with the right, in life is, looking for fun, that likes to, time to time, city has to, from time to, to laugh and, want to meet, to go out, to music and, on the weekends  \\\n",
              "essay0                                                                                                                                                                                                                                                                                                                                                                                                                         \n",
              "about me:  i would love to think that i was som...                                           0.012919                                                                                                                                                                                                                                                                                                                          \n",
              "\n",
              "                                                    am originally from, to talk about, and ready to, exploring the city, love to dance, single and ready, ready to mingle, at least once, up in the, like to meet, if you can, share it with, am fun loving, to share it, to earth and, learn new things, surround myself with, of my time, part of my, to describe myself, very important to, new to sf, writing about myself, going laid back, easy going laid  \\\n",
              "essay0                                                                                                                                                                                                                                                                                                                                                                                                                                                             \n",
              "about me:  i would love to think that i was som...                                           0.006962                                                                                                                                                                                                                                                                                                                                                              \n",
              "\n",
              "                                                    good food and, easy going funny, like to do, am originally from, ve been told, new friends and, love my job, of humor and, who wants to, pretty laid back, to live life, making people laugh, if you can, for the last, the right person, back easy going, just looking to, the most important, laid back easy, and enjoy life, the world and, the city and, around the world, to sf from, to try new  \\\n",
              "essay0                                                                                                                                                                                                                                                                                                                                                                                                                                                      \n",
              "about me:  i would love to think that i was som...                                           0.016235                                                                                                                                                                                                                                                                                                                                                       \n",
              "\n",
              "                                                    and want to, in the area, on the weekends, these things out, filling these things, for me to, and go to, like to do, to try new, going to school, love to dance, guy looking to, all kinds of, like to stay, go to school, easy going person, to the gym, life is good, listen to music, am easy going, living in sf, listening to music, if you have, looking to make, ll have to  \\\n",
              "essay0                                                                                                                                                                                                                                                                                                                                                                                                                                   \n",
              "about me:  i would love to think that i was som...                                           0.002633                                                                                                                                                                                                                                                                                                                                    \n",
              "\n",
              "                                                    looking for some, and ready to, single and ready, ready to mingle, someone who can, life too seriously, take life too, as long as, love to be, take care of, have lot of, things to do, was born and, to earth and, life is to, in life is, and enjoy life, and want to, like to laugh, in the moment, and work in, for some fun, at the moment, am originally from, like to play  \\\n",
              "essay0                                                                                                                                                                                                                                                                                                                                                                                                                                  \n",
              "about me:  i would love to think that i was som...                                          -0.003836                                                                                                                                                                                                                                                                                                                                   \n",
              "\n",
              "                                                    hi my name, looking for fun, in the area, who wants to, ll have to, as long as, moved out to, at least once, have lot of, pretty easy going, my self summary, learn new things, bay area for, out to the, have fun with, raised in the, you ll have, make the best, willing to try, love my job, very important to, new in the, the city and, grew up on, and working in  \\\n",
              "essay0                                                                                                                                                                                                                                                                                                                                                                                                                         \n",
              "about me:  i would love to think that i was som...                                           0.005053                                                                                                                                                                                                                                                                                                                          \n",
              "\n",
              "                                                    in the area, of san francisco, and ready to, like to play, city of san, single and ready, ready to mingle, to see what, new in the, around the city, year and half, new to sf, most of my, who wants to, love to go, what do you, people in the, am originally from, pretty laid back, looking for good, now live in, raised in sf, about year ago, for someone that, have lot of  \\\n",
              "essay0                                                                                                                                                                                                                                                                                                                                                                                                                                  \n",
              "about me:  i would love to think that i was som...                                          -0.005965                                                                                                                                                                                                                                                                                                                                   \n",
              "\n",
              "                                                    of humor and, to talk about, just ask me, who wants to, some of my, new to sf, someone to share, also love to, to do with, looking for friends, out with friends, to sf and, like to stay, and meeting new, but also love, learn new things, like to talk, what do you, hang out with, not afraid to, to earth guy, talk about myself, am easy going, enjoy the outdoors, and work in  \\\n",
              "essay0                                                                                                                                                                                                                                                                                                                                                                                                                                      \n",
              "about me:  i would love to think that i was som...                                          -0.000484                                                                                                                                                                                                                                                                                                                                       \n",
              "\n",
              "                                                    just ask me, and ready to, ve been told, looking for some, hi my name, single and ready, ready to mingle, was born and, good food and, of the world, long term relationship, enjoy the outdoors, am easy going, the outdoors and, back easy going, laid back easy, of san francisco, and go to, and try new, to see what, to do with, been told that, some of my, to sf from, to earth guy  \\\n",
              "essay0                                                                                                                                                                                                                                                                                                                                                                                                                                           \n",
              "about me:  i would love to think that i was som...                                          -0.007755                                                                                                                                                                                                                                                                                                                                            \n",
              "\n",
              "                                                    hi my name, if you can, to talk about, love my job, that special someone, looking for that, looking for good, of humor and, the kind of, to go to, long term relationship, and open minded, year and half, live my life, see what happens, for that special, kind of person, good food and, love going to, try to be, for good time, the world to, of the world, me at my, about year and  \n",
              "essay0                                                                                                                                                                                                                                                                                                                                                                                                                                         \n",
              "about me:  i would love to think that i was som...                                           0.002775                                                                                                                                                                                                                                                                                                                                          \n",
              "\n",
              "[1 rows x 300 columns]"
            ],
            "text/html": [
              "\n",
              "  <div id=\"df-09ccc0ae-7445-4ecd-b7dd-e13fcba1be59\">\n",
              "    <div class=\"colab-df-container\">\n",
              "      <div>\n",
              "<style scoped>\n",
              "    .dataframe tbody tr th:only-of-type {\n",
              "        vertical-align: middle;\n",
              "    }\n",
              "\n",
              "    .dataframe tbody tr th {\n",
              "        vertical-align: top;\n",
              "    }\n",
              "\n",
              "    .dataframe thead th {\n",
              "        text-align: right;\n",
              "    }\n",
              "</style>\n",
              "<table border=\"1\" class=\"dataframe\">\n",
              "  <thead>\n",
              "    <tr style=\"text-align: right;\">\n",
              "      <th></th>\n",
              "      <th>the bay area, in the bay, born and raised, to the bay, in san francisco, and raised in, to meet new, looking to meet, looking for someone, meet new people, sense of humor, grew up in, to san francisco, moved to the, get to know, am looking for, down to earth, just moved to, moved to san, to have fun, new people and, meeting new people, love to travel, in the city, you want to</th>\n",
              "      <th>the bay area, in the bay, born and raised, and raised in, to the bay, raised in the, was born and, in san francisco, bay area for, grew up in, bay area and, moved to the, raised in san, up in the, living in the, lived in the, went to college, been living in, the east coast, raised in sf, back to the, been in the, bay area from, have lived in, living in san</th>\n",
              "      <th>to meet new, looking to meet, meet new people, the bay area, just moved to, to the bay, moved to the, to san francisco, new people and, moved to san, meet new friends, and looking to, in the bay, to meet some, just looking to, am looking to, recently moved to, new to the, san francisco from, meet some new, bay area from, like to meet, born and raised, and raised in, some new people</th>\n",
              "      <th>get to know, to know me, you want to, if you want, want to know, to get to, to know more, the bay area, born and raised, and raised in, in the bay, you get to, want to get, me if you, to meet new, to the bay, message me if, raised in the, once you get, looking to meet, was born and, meet new people, know more about, more about me, know more just</th>\n",
              "      <th>born and raised, and raised in, in san francisco, was born and, raised in san, raised in the, to meet new, meet new people, living in san, raised in sf, san francisco for, san francisco and, to san francisco, moved to san, looking to meet, new people and, live in san, in san diego, san francisco love, lived in san, been living in, meeting new people, my name is, in the city, meet new friends</th>\n",
              "      <th>to san francisco, moved to san, just moved to, work in progress, san francisco from, recently moved to, san francisco and, in san francisco, the east coast, grew up in, from the east, san francisco for, san francisco in, moved to sf, to know me, get to know, and moved to, you want to, moved to the, francisco from the, the city and, if you want, want to know, francisco from la, francisco and looking</th>\n",
              "      <th>work in progress, is work in, this is work, to meet new, meet new people, always work in, in progress just, not work in, in the bay, major work in, the bay area, looking to meet, am work in, progress just like, to be continued, in progress and, in progress to, progress to be, sense of humor, profile is work, just like me, profile am work, born and raised, and raised in, progress when get</th>\n",
              "      <th>get to know, to know me, to get to, you get to, once you get, and get to, looking for someone, but once you, know me you, at first but, shy at first, know me and, me and get, to know someone, just get to, know me is, am looking for, for someone to, message me and, sense of humor, in san francisco, for someone who, the best way, way to get, best way to</th>\n",
              "      <th>looking for someone, for someone to, born and raised, and raised in, am looking for, for someone who, just moved to, to have fun, moved to san, to san francisco, raised in the, was born and, moved to the, and looking for, to the bay, someone who is, someone to share, and am looking, someone to have, san francisco from, raised in sf, recently moved to, someone who can, the bay area, have fun and</th>\n",
              "      <th>looking for someone, in san francisco, for someone to, living in san, for someone who, am looking for, san francisco for, been living in, someone to share, looking to meet, someone who is, and looking for, and am looking, san francisco and, grew up in, live in san, you want to, lived in san, ve been living, someone who can, if you want, want to know, francisco for years, someone to have, to meet new</th>\n",
              "      <th>...</th>\n",
              "      <th>like to play, and go to, go to school, and ready to, what do you, life is to, guy looking to, the right person, single and ready, do you want, was born and, ready to mingle, listen to music, with the right, in life is, looking for fun, that likes to, time to time, city has to, from time to, to laugh and, want to meet, to go out, to music and, on the weekends</th>\n",
              "      <th>am originally from, to talk about, and ready to, exploring the city, love to dance, single and ready, ready to mingle, at least once, up in the, like to meet, if you can, share it with, am fun loving, to share it, to earth and, learn new things, surround myself with, of my time, part of my, to describe myself, very important to, new to sf, writing about myself, going laid back, easy going laid</th>\n",
              "      <th>good food and, easy going funny, like to do, am originally from, ve been told, new friends and, love my job, of humor and, who wants to, pretty laid back, to live life, making people laugh, if you can, for the last, the right person, back easy going, just looking to, the most important, laid back easy, and enjoy life, the world and, the city and, around the world, to sf from, to try new</th>\n",
              "      <th>and want to, in the area, on the weekends, these things out, filling these things, for me to, and go to, like to do, to try new, going to school, love to dance, guy looking to, all kinds of, like to stay, go to school, easy going person, to the gym, life is good, listen to music, am easy going, living in sf, listening to music, if you have, looking to make, ll have to</th>\n",
              "      <th>looking for some, and ready to, single and ready, ready to mingle, someone who can, life too seriously, take life too, as long as, love to be, take care of, have lot of, things to do, was born and, to earth and, life is to, in life is, and enjoy life, and want to, like to laugh, in the moment, and work in, for some fun, at the moment, am originally from, like to play</th>\n",
              "      <th>hi my name, looking for fun, in the area, who wants to, ll have to, as long as, moved out to, at least once, have lot of, pretty easy going, my self summary, learn new things, bay area for, out to the, have fun with, raised in the, you ll have, make the best, willing to try, love my job, very important to, new in the, the city and, grew up on, and working in</th>\n",
              "      <th>in the area, of san francisco, and ready to, like to play, city of san, single and ready, ready to mingle, to see what, new in the, around the city, year and half, new to sf, most of my, who wants to, love to go, what do you, people in the, am originally from, pretty laid back, looking for good, now live in, raised in sf, about year ago, for someone that, have lot of</th>\n",
              "      <th>of humor and, to talk about, just ask me, who wants to, some of my, new to sf, someone to share, also love to, to do with, looking for friends, out with friends, to sf and, like to stay, and meeting new, but also love, learn new things, like to talk, what do you, hang out with, not afraid to, to earth guy, talk about myself, am easy going, enjoy the outdoors, and work in</th>\n",
              "      <th>just ask me, and ready to, ve been told, looking for some, hi my name, single and ready, ready to mingle, was born and, good food and, of the world, long term relationship, enjoy the outdoors, am easy going, the outdoors and, back easy going, laid back easy, of san francisco, and go to, and try new, to see what, to do with, been told that, some of my, to sf from, to earth guy</th>\n",
              "      <th>hi my name, if you can, to talk about, love my job, that special someone, looking for that, looking for good, of humor and, the kind of, to go to, long term relationship, and open minded, year and half, live my life, see what happens, for that special, kind of person, good food and, love going to, try to be, for good time, the world to, of the world, me at my, about year and</th>\n",
              "    </tr>\n",
              "    <tr>\n",
              "      <th>essay0</th>\n",
              "      <th></th>\n",
              "      <th></th>\n",
              "      <th></th>\n",
              "      <th></th>\n",
              "      <th></th>\n",
              "      <th></th>\n",
              "      <th></th>\n",
              "      <th></th>\n",
              "      <th></th>\n",
              "      <th></th>\n",
              "      <th></th>\n",
              "      <th></th>\n",
              "      <th></th>\n",
              "      <th></th>\n",
              "      <th></th>\n",
              "      <th></th>\n",
              "      <th></th>\n",
              "      <th></th>\n",
              "      <th></th>\n",
              "      <th></th>\n",
              "      <th></th>\n",
              "    </tr>\n",
              "  </thead>\n",
              "  <tbody>\n",
              "    <tr>\n",
              "      <th>about me:  i would love to think that i was some some kind of intellectual: either the dumbest smart guy, or the smartest dumb guy. can't say i can tell the difference. i love to talk about ideas and concepts. i forge odd metaphors instead of reciting cliches. like the simularities between a friend of mine's house and an underwater salt mine. my favorite word is salt by the way (weird choice i know). to me most things in life are better as metaphors. i seek to make myself a little better everyday, in some productively lazy way. got tired of tying my shoes. considered hiring a five year old, but would probably have to tie both of our shoes... decided to only wear leather shoes dress shoes.  about you:  you love to have really serious, really deep conversations about really silly stuff. you have to be willing to snap me out of a light hearted rant with a kiss. you don't have to be funny, but you have to be able to make me laugh. you should be able to bend spoons with your mind, and telepathically make me smile while i am still at work. you should love life, and be cool with just letting the wind blow. extra points for reading all this and guessing my favorite video game (no hints given yet). and lastly you have a good attention span.</th>\n",
              "      <td>0.015662</td>\n",
              "      <td>-0.006143</td>\n",
              "      <td>-0.011451</td>\n",
              "      <td>-0.007698</td>\n",
              "      <td>-0.000611</td>\n",
              "      <td>-0.00296</td>\n",
              "      <td>0.000739</td>\n",
              "      <td>-0.001628</td>\n",
              "      <td>0.000528</td>\n",
              "      <td>-0.00456</td>\n",
              "      <td>...</td>\n",
              "      <td>0.012919</td>\n",
              "      <td>0.006962</td>\n",
              "      <td>0.016235</td>\n",
              "      <td>0.002633</td>\n",
              "      <td>-0.003836</td>\n",
              "      <td>0.005053</td>\n",
              "      <td>-0.005965</td>\n",
              "      <td>-0.000484</td>\n",
              "      <td>-0.007755</td>\n",
              "      <td>0.002775</td>\n",
              "    </tr>\n",
              "  </tbody>\n",
              "</table>\n",
              "<p>1 rows × 300 columns</p>\n",
              "</div>\n",
              "      <button class=\"colab-df-convert\" onclick=\"convertToInteractive('df-09ccc0ae-7445-4ecd-b7dd-e13fcba1be59')\"\n",
              "              title=\"Convert this dataframe to an interactive table.\"\n",
              "              style=\"display:none;\">\n",
              "        \n",
              "  <svg xmlns=\"http://www.w3.org/2000/svg\" height=\"24px\"viewBox=\"0 0 24 24\"\n",
              "       width=\"24px\">\n",
              "    <path d=\"M0 0h24v24H0V0z\" fill=\"none\"/>\n",
              "    <path d=\"M18.56 5.44l.94 2.06.94-2.06 2.06-.94-2.06-.94-.94-2.06-.94 2.06-2.06.94zm-11 1L8.5 8.5l.94-2.06 2.06-.94-2.06-.94L8.5 2.5l-.94 2.06-2.06.94zm10 10l.94 2.06.94-2.06 2.06-.94-2.06-.94-.94-2.06-.94 2.06-2.06.94z\"/><path d=\"M17.41 7.96l-1.37-1.37c-.4-.4-.92-.59-1.43-.59-.52 0-1.04.2-1.43.59L10.3 9.45l-7.72 7.72c-.78.78-.78 2.05 0 2.83L4 21.41c.39.39.9.59 1.41.59.51 0 1.02-.2 1.41-.59l7.78-7.78 2.81-2.81c.8-.78.8-2.07 0-2.86zM5.41 20L4 18.59l7.72-7.72 1.47 1.35L5.41 20z\"/>\n",
              "  </svg>\n",
              "      </button>\n",
              "      \n",
              "  <style>\n",
              "    .colab-df-container {\n",
              "      display:flex;\n",
              "      flex-wrap:wrap;\n",
              "      gap: 12px;\n",
              "    }\n",
              "\n",
              "    .colab-df-convert {\n",
              "      background-color: #E8F0FE;\n",
              "      border: none;\n",
              "      border-radius: 50%;\n",
              "      cursor: pointer;\n",
              "      display: none;\n",
              "      fill: #1967D2;\n",
              "      height: 32px;\n",
              "      padding: 0 0 0 0;\n",
              "      width: 32px;\n",
              "    }\n",
              "\n",
              "    .colab-df-convert:hover {\n",
              "      background-color: #E2EBFA;\n",
              "      box-shadow: 0px 1px 2px rgba(60, 64, 67, 0.3), 0px 1px 3px 1px rgba(60, 64, 67, 0.15);\n",
              "      fill: #174EA6;\n",
              "    }\n",
              "\n",
              "    [theme=dark] .colab-df-convert {\n",
              "      background-color: #3B4455;\n",
              "      fill: #D2E3FC;\n",
              "    }\n",
              "\n",
              "    [theme=dark] .colab-df-convert:hover {\n",
              "      background-color: #434B5C;\n",
              "      box-shadow: 0px 1px 3px 1px rgba(0, 0, 0, 0.15);\n",
              "      filter: drop-shadow(0px 1px 2px rgba(0, 0, 0, 0.3));\n",
              "      fill: #FFFFFF;\n",
              "    }\n",
              "  </style>\n",
              "\n",
              "      <script>\n",
              "        const buttonEl =\n",
              "          document.querySelector('#df-09ccc0ae-7445-4ecd-b7dd-e13fcba1be59 button.colab-df-convert');\n",
              "        buttonEl.style.display =\n",
              "          google.colab.kernel.accessAllowed ? 'block' : 'none';\n",
              "\n",
              "        async function convertToInteractive(key) {\n",
              "          const element = document.querySelector('#df-09ccc0ae-7445-4ecd-b7dd-e13fcba1be59');\n",
              "          const dataTable =\n",
              "            await google.colab.kernel.invokeFunction('convertToInteractive',\n",
              "                                                     [key], {});\n",
              "          if (!dataTable) return;\n",
              "\n",
              "          const docLinkHtml = 'Like what you see? Visit the ' +\n",
              "            '<a target=\"_blank\" href=https://colab.research.google.com/notebooks/data_table.ipynb>data table notebook</a>'\n",
              "            + ' to learn more about interactive tables.';\n",
              "          element.innerHTML = '';\n",
              "          dataTable['output_type'] = 'display_data';\n",
              "          await google.colab.output.renderOutput(dataTable, element);\n",
              "          const docLink = document.createElement('div');\n",
              "          docLink.innerHTML = docLinkHtml;\n",
              "          element.appendChild(docLink);\n",
              "        }\n",
              "      </script>\n",
              "    </div>\n",
              "  </div>\n",
              "  "
            ]
          },
          "metadata": {},
          "execution_count": 80
        }
      ]
    },
    {
      "cell_type": "code",
      "source": [
        "matching_topics(decompose,2,3963,svd_components)"
      ],
      "metadata": {
        "colab": {
          "base_uri": "https://localhost:8080/"
        },
        "id": "03hVBptfcBrc",
        "outputId": "63bb3353-a152-40b9-91a1-e0ae214899c1"
      },
      "id": "03hVBptfcBrc",
      "execution_count": 81,
      "outputs": [
        {
          "output_type": "execute_result",
          "data": {
            "text/plain": [
              "(array([84, 70, 71, 78, 69]), 0.5905703089575707)"
            ]
          },
          "metadata": {},
          "execution_count": 81
        }
      ]
    },
    {
      "cell_type": "code",
      "source": [
        "topics[54]"
      ],
      "metadata": {
        "colab": {
          "base_uri": "https://localhost:8080/",
          "height": 70
        },
        "id": "aUCPDUauixns",
        "outputId": "be762a0e-94b4-428b-9eac-5949d0d9740e"
      },
      "id": "aUCPDUauixns",
      "execution_count": 82,
      "outputs": [
        {
          "output_type": "execute_result",
          "data": {
            "text/plain": [
              "'in my life, and like to, take myself too, myself too seriously, to meet some, who likes to, to laugh and, like to laugh, meet some new, don take myself, some new people, work hard play, meet new people, with friends and, new people and, just moved to, not to take, you want to, try not to, out with friends, would love to, in the city, family and friends, to travel and, to find someone'"
            ],
            "application/vnd.google.colaboratory.intrinsic+json": {
              "type": "string"
            }
          },
          "metadata": {},
          "execution_count": 82
        }
      ]
    },
    {
      "cell_type": "code",
      "source": [
        "data.essay0[0]"
      ],
      "metadata": {
        "colab": {
          "base_uri": "https://localhost:8080/",
          "height": 157
        },
        "id": "OegqQn1RkevY",
        "outputId": "c0f27da8-cef6-4061-9fe1-503f5acd3fb7"
      },
      "id": "OegqQn1RkevY",
      "execution_count": 83,
      "outputs": [
        {
          "output_type": "execute_result",
          "data": {
            "text/plain": [
              "\"about me:  i would love to think that i was some some kind of intellectual: either the dumbest smart guy, or the smartest dumb guy. can't say i can tell the difference. i love to talk about ideas and concepts. i forge odd metaphors instead of reciting cliches. like the simularities between a friend of mine's house and an underwater salt mine. my favorite word is salt by the way (weird choice i know). to me most things in life are better as metaphors. i seek to make myself a little better everyday, in some productively lazy way. got tired of tying my shoes. considered hiring a five year old, but would probably have to tie both of our shoes... decided to only wear leather shoes dress shoes.  about you:  you love to have really serious, really deep conversations about really silly stuff. you have to be willing to snap me out of a light hearted rant with a kiss. you don't have to be funny, but you have to be able to make me laugh. you should be able to bend spoons with your mind, and telepathically make me smile while i am still at work. you should love life, and be cool with just letting the wind blow. extra points for reading all this and guessing my favorite video game (no hints given yet). and lastly you have a good attention span.\""
            ],
            "application/vnd.google.colaboratory.intrinsic+json": {
              "type": "string"
            }
          },
          "metadata": {},
          "execution_count": 83
        }
      ]
    },
    {
      "cell_type": "code",
      "source": [
        "data.essay0[21824]"
      ],
      "metadata": {
        "colab": {
          "base_uri": "https://localhost:8080/",
          "height": 157
        },
        "id": "qOOvUW8_oksz",
        "outputId": "e3c9cce1-0476-4a20-c17c-318a22eff7b6"
      },
      "id": "qOOvUW8_oksz",
      "execution_count": 84,
      "outputs": [
        {
          "output_type": "execute_result",
          "data": {
            "text/plain": [
              "\"it's 10 minutes before showtime. you feel the rush of adrenaline and butterflies in your stomach. your heart beats faster then it ever has. then you step on stage and the magic happens.  i am an artist, athlete, french canadian, renaissance man. i love to play music and play hockey and ride bicycles. i am a cool and caring, creative ,imagination, intelligent, integrity, macgyver type who loves to laugh and make others laugh ,it's all in the timing ,sharp wicked twisted sense of humour. well traveled and educated, honest, ,no bs straight shooter. love me tender... love to hang out .i am a good cook, love to make good food and drink good wine. i have lived in san francisco for the last 20 years. i love the bay area.  i live by the beach and golden gate park great place to hang and explore. je suis un bon vivant my friends tell me i should be a writer how can you told i was french? is it because i'm talked funny or because of the bad accident hey i'm tolding you peace and love  you are the woman who can be the belle of the ball or get in her jeans and dig in the dirt. you know that humour is a virus and is contagious , and there is no cure. you captain your own ship. you look for a soft place for you heart to land. you have lived ,loved, laughed, and cried. a new part of your life is about to begin ,let's share it together.  it's 5 minutes to showtime. are you ready to jump in and be on stage and make the magic happen?\""
            ],
            "application/vnd.google.colaboratory.intrinsic+json": {
              "type": "string"
            }
          },
          "metadata": {},
          "execution_count": 84
        }
      ]
    },
    {
      "cell_type": "code",
      "source": [
        "plt.plot(svd_explained)"
      ],
      "metadata": {
        "colab": {
          "base_uri": "https://localhost:8080/",
          "height": 284
        },
        "id": "2qdIL2nJBDgn",
        "outputId": "abea890b-3dc6-4cfb-ddae-0078126af51d"
      },
      "id": "2qdIL2nJBDgn",
      "execution_count": 85,
      "outputs": [
        {
          "output_type": "execute_result",
          "data": {
            "text/plain": [
              "[<matplotlib.lines.Line2D at 0x7fd98e4559d0>]"
            ]
          },
          "metadata": {},
          "execution_count": 85
        },
        {
          "output_type": "display_data",
          "data": {
            "text/plain": [
              "<Figure size 432x288 with 1 Axes>"
            ],
            "image/png": "[encoded data removed]"
          },
          "metadata": {
            "needs_background": "light"
          }
        }
      ]
    },
    {
      "cell_type": "code",
      "source": [
        "svd_explained.sum()"
      ],
      "metadata": {
        "colab": {
          "base_uri": "https://localhost:8080/"
        },
        "id": "Z6772B5WJElq",
        "outputId": "6d6d1d36-f61d-4522-d398-341a72a67e5c"
      },
      "id": "Z6772B5WJElq",
      "execution_count": 86,
      "outputs": [
        {
          "output_type": "execute_result",
          "data": {
            "text/plain": [
              "0.02684269256283863"
            ]
          },
          "metadata": {},
          "execution_count": 86
        }
      ]
    },
    {
      "cell_type": "code",
      "source": [],
      "metadata": {
        "id": "ncGStp3dK4hV"
      },
      "id": "ncGStp3dK4hV",
      "execution_count": 86,
      "outputs": []
    },
    {
      "cell_type": "code",
      "source": [],
      "metadata": {
        "id": "np36WhAOK5WJ"
      },
      "id": "np36WhAOK5WJ",
      "execution_count": 86,
      "outputs": []
    },
    {
      "cell_type": "code",
      "source": [],
      "metadata": {
        "id": "yHTOCqn5K57V"
      },
      "id": "yHTOCqn5K57V",
      "execution_count": 86,
      "outputs": []
    }
  ],
  "metadata": {
    "accelerator": "TPU",
    "colab": {
      "collapsed_sections": [],
      "machine_shape": "hm",
      "provenance": []
    },
    "gpuClass": "standard",
    "kernelspec": {
      "display_name": "Python 3 (ipykernel)",
      "language": "python",
      "name": "python3"
    },
    "language_info": {
      "codemirror_mode": {
        "name": "ipython",
        "version": 3
      },
      "file_extension": ".py",
      "mimetype": "text/x-python",
      "name": "python",
      "nbconvert_exporter": "python",
      "pygments_lexer": "ipython3",
      "version": "3.8.12"
    },
    "toc": {
      "base_numbering": 1,
      "nav_menu": {},
      "number_sections": true,
      "sideBar": true,
      "skip_h1_title": false,
      "title_cell": "Table of Contents",
      "title_sidebar": "Contents",
      "toc_cell": false,
      "toc_position": {},
      "toc_section_display": true,
      "toc_window_display": false
    },
    "varInspector": {
      "cols": {
        "lenName": 16,
        "lenType": 16,
        "lenVar": 40
      },
      "kernels_config": {
        "python": {
          "delete_cmd_postfix": "",
          "delete_cmd_prefix": "del ",
          "library": "var_list.py",
          "varRefreshCmd": "print(var_dic_list())"
        },
        "r": {
          "delete_cmd_postfix": ") ",
          "delete_cmd_prefix": "rm(",
          "library": "var_list.r",
          "varRefreshCmd": "cat(var_dic_list()) "
        }
      },
      "types_to_exclude": [
        "module",
        "function",
        "builtin_function_or_method",
        "instance",
        "_Feature"
      ],
      "window_display": false
    }
  },
  "nbformat": 4,
  "nbformat_minor": 5
}