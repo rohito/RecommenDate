{
 "cells": [
  {
   "cell_type": "code",
   "execution_count": 1,
   "id": "e5b91ef4",
   "metadata": {},
   "outputs": [
    {
     "data": {
      "text/plain": [
       "'/root/code/rohito/RecommenDate/notebooks'"
      ]
     },
     "execution_count": 1,
     "metadata": {},
     "output_type": "execute_result"
    }
   ],
   "source": [
    "pwd"
   ]
  },
  {
   "cell_type": "code",
   "execution_count": 2,
   "id": "79ab63a6",
   "metadata": {},
   "outputs": [],
   "source": [
    "import pandas as pd\n",
    "from sklearn.impute import SimpleImputer\n",
    "import matplotlib.pyplot as plt\n",
    "import re\n",
    "import string\n",
    "from nltk.corpus import stopwords\n",
    "import string\n",
    "from nltk.stem.wordnet import WordNetLemmatizer\n",
    "from nltk import word_tokenize"
   ]
  },
  {
   "cell_type": "code",
   "execution_count": 3,
   "id": "56a0d136",
   "metadata": {
    "scrolled": true
   },
   "outputs": [],
   "source": [
    "data=pd.read_csv('/root/code/rohito/RecommenDate/RecommenDate/data/okcupid_profiles.csv')"
   ]
  },
  {
   "cell_type": "code",
   "execution_count": 4,
   "id": "4ad37693",
   "metadata": {},
   "outputs": [
    {
     "data": {
      "text/html": [
       "<div>\n",
       "<style scoped>\n",
       "    .dataframe tbody tr th:only-of-type {\n",
       "        vertical-align: middle;\n",
       "    }\n",
       "\n",
       "    .dataframe tbody tr th {\n",
       "        vertical-align: top;\n",
       "    }\n",
       "\n",
       "    .dataframe thead th {\n",
       "        text-align: right;\n",
       "    }\n",
       "</style>\n",
       "<table border=\"1\" class=\"dataframe\">\n",
       "  <thead>\n",
       "    <tr style=\"text-align: right;\">\n",
       "      <th></th>\n",
       "      <th>age</th>\n",
       "      <th>status</th>\n",
       "      <th>sex</th>\n",
       "      <th>orientation</th>\n",
       "      <th>body_type</th>\n",
       "      <th>diet</th>\n",
       "      <th>drinks</th>\n",
       "      <th>drugs</th>\n",
       "      <th>education</th>\n",
       "      <th>ethnicity</th>\n",
       "      <th>...</th>\n",
       "      <th>essay0</th>\n",
       "      <th>essay1</th>\n",
       "      <th>essay2</th>\n",
       "      <th>essay3</th>\n",
       "      <th>essay4</th>\n",
       "      <th>essay5</th>\n",
       "      <th>essay6</th>\n",
       "      <th>essay7</th>\n",
       "      <th>essay8</th>\n",
       "      <th>essay9</th>\n",
       "    </tr>\n",
       "  </thead>\n",
       "  <tbody>\n",
       "    <tr>\n",
       "      <th>0</th>\n",
       "      <td>22</td>\n",
       "      <td>single</td>\n",
       "      <td>m</td>\n",
       "      <td>straight</td>\n",
       "      <td>a little extra</td>\n",
       "      <td>strictly anything</td>\n",
       "      <td>socially</td>\n",
       "      <td>never</td>\n",
       "      <td>working on college/university</td>\n",
       "      <td>asian, white</td>\n",
       "      <td>...</td>\n",
       "      <td>about me:  i would love to think that i was so...</td>\n",
       "      <td>currently working as an international agent fo...</td>\n",
       "      <td>making people laugh. ranting about a good salt...</td>\n",
       "      <td>the way i look. i am a six foot half asian, ha...</td>\n",
       "      <td>books: absurdistan, the republic, of mice and ...</td>\n",
       "      <td>food. water. cell phone. shelter.</td>\n",
       "      <td>duality and humorous things</td>\n",
       "      <td>trying to find someone to hang out with. i am ...</td>\n",
       "      <td>i am new to california and looking for someone...</td>\n",
       "      <td>you want to be swept off your feet! you are ti...</td>\n",
       "    </tr>\n",
       "    <tr>\n",
       "      <th>1</th>\n",
       "      <td>35</td>\n",
       "      <td>single</td>\n",
       "      <td>m</td>\n",
       "      <td>straight</td>\n",
       "      <td>average</td>\n",
       "      <td>mostly other</td>\n",
       "      <td>often</td>\n",
       "      <td>sometimes</td>\n",
       "      <td>working on space camp</td>\n",
       "      <td>white</td>\n",
       "      <td>...</td>\n",
       "      <td>i am a chef: this is what that means. 1. i am ...</td>\n",
       "      <td>dedicating everyday to being an unbelievable b...</td>\n",
       "      <td>being silly. having ridiculous amonts of fun w...</td>\n",
       "      <td>NaN</td>\n",
       "      <td>i am die hard christopher moore fan. i don't r...</td>\n",
       "      <td>delicious porkness in all of its glories. my b...</td>\n",
       "      <td>NaN</td>\n",
       "      <td>NaN</td>\n",
       "      <td>i am very open and will share just about anyth...</td>\n",
       "      <td>NaN</td>\n",
       "    </tr>\n",
       "    <tr>\n",
       "      <th>2</th>\n",
       "      <td>38</td>\n",
       "      <td>available</td>\n",
       "      <td>m</td>\n",
       "      <td>straight</td>\n",
       "      <td>thin</td>\n",
       "      <td>anything</td>\n",
       "      <td>socially</td>\n",
       "      <td>NaN</td>\n",
       "      <td>graduated from masters program</td>\n",
       "      <td>NaN</td>\n",
       "      <td>...</td>\n",
       "      <td>i'm not ashamed of much, but writing public te...</td>\n",
       "      <td>i make nerdy software for musicians, artists, ...</td>\n",
       "      <td>improvising in different contexts. alternating...</td>\n",
       "      <td>my large jaw and large glasses are the physica...</td>\n",
       "      <td>okay this is where the cultural matrix gets so...</td>\n",
       "      <td>movement conversation creation contemplation t...</td>\n",
       "      <td>NaN</td>\n",
       "      <td>viewing. listening. dancing. talking. drinking...</td>\n",
       "      <td>when i was five years old, i was known as \"the...</td>\n",
       "      <td>you are bright, open, intense, silly, ironic, ...</td>\n",
       "    </tr>\n",
       "    <tr>\n",
       "      <th>3</th>\n",
       "      <td>23</td>\n",
       "      <td>single</td>\n",
       "      <td>m</td>\n",
       "      <td>straight</td>\n",
       "      <td>thin</td>\n",
       "      <td>vegetarian</td>\n",
       "      <td>socially</td>\n",
       "      <td>NaN</td>\n",
       "      <td>working on college/university</td>\n",
       "      <td>white</td>\n",
       "      <td>...</td>\n",
       "      <td>i work in a library and go to school. . .</td>\n",
       "      <td>reading things written by old dead people</td>\n",
       "      <td>playing synthesizers and organizing books acco...</td>\n",
       "      <td>socially awkward but i do my best</td>\n",
       "      <td>bataille, celine, beckett. . . lynch, jarmusch...</td>\n",
       "      <td>NaN</td>\n",
       "      <td>cats and german philosophy</td>\n",
       "      <td>NaN</td>\n",
       "      <td>NaN</td>\n",
       "      <td>you feel so inclined.</td>\n",
       "    </tr>\n",
       "    <tr>\n",
       "      <th>4</th>\n",
       "      <td>29</td>\n",
       "      <td>single</td>\n",
       "      <td>m</td>\n",
       "      <td>straight</td>\n",
       "      <td>athletic</td>\n",
       "      <td>NaN</td>\n",
       "      <td>socially</td>\n",
       "      <td>never</td>\n",
       "      <td>graduated from college/university</td>\n",
       "      <td>asian, black, other</td>\n",
       "      <td>...</td>\n",
       "      <td>hey how's it going? currently vague on the pro...</td>\n",
       "      <td>work work work work + play</td>\n",
       "      <td>creating imagery to look at: http://bagsbrown....</td>\n",
       "      <td>i smile a lot and my inquisitive nature</td>\n",
       "      <td>music: bands, rappers, musicians at the moment...</td>\n",
       "      <td>NaN</td>\n",
       "      <td>NaN</td>\n",
       "      <td>NaN</td>\n",
       "      <td>NaN</td>\n",
       "      <td>NaN</td>\n",
       "    </tr>\n",
       "  </tbody>\n",
       "</table>\n",
       "<p>5 rows × 31 columns</p>\n",
       "</div>"
      ],
      "text/plain": [
       "   age     status sex orientation       body_type               diet  \\\n",
       "0   22     single   m    straight  a little extra  strictly anything   \n",
       "1   35     single   m    straight         average       mostly other   \n",
       "2   38  available   m    straight            thin           anything   \n",
       "3   23     single   m    straight            thin         vegetarian   \n",
       "4   29     single   m    straight        athletic                NaN   \n",
       "\n",
       "     drinks      drugs                          education  \\\n",
       "0  socially      never      working on college/university   \n",
       "1     often  sometimes              working on space camp   \n",
       "2  socially        NaN     graduated from masters program   \n",
       "3  socially        NaN      working on college/university   \n",
       "4  socially      never  graduated from college/university   \n",
       "\n",
       "             ethnicity  ...  \\\n",
       "0         asian, white  ...   \n",
       "1                white  ...   \n",
       "2                  NaN  ...   \n",
       "3                white  ...   \n",
       "4  asian, black, other  ...   \n",
       "\n",
       "                                              essay0  \\\n",
       "0  about me:  i would love to think that i was so...   \n",
       "1  i am a chef: this is what that means. 1. i am ...   \n",
       "2  i'm not ashamed of much, but writing public te...   \n",
       "3          i work in a library and go to school. . .   \n",
       "4  hey how's it going? currently vague on the pro...   \n",
       "\n",
       "                                              essay1  \\\n",
       "0  currently working as an international agent fo...   \n",
       "1  dedicating everyday to being an unbelievable b...   \n",
       "2  i make nerdy software for musicians, artists, ...   \n",
       "3          reading things written by old dead people   \n",
       "4                         work work work work + play   \n",
       "\n",
       "                                              essay2  \\\n",
       "0  making people laugh. ranting about a good salt...   \n",
       "1  being silly. having ridiculous amonts of fun w...   \n",
       "2  improvising in different contexts. alternating...   \n",
       "3  playing synthesizers and organizing books acco...   \n",
       "4  creating imagery to look at: http://bagsbrown....   \n",
       "\n",
       "                                              essay3  \\\n",
       "0  the way i look. i am a six foot half asian, ha...   \n",
       "1                                                NaN   \n",
       "2  my large jaw and large glasses are the physica...   \n",
       "3                  socially awkward but i do my best   \n",
       "4            i smile a lot and my inquisitive nature   \n",
       "\n",
       "                                              essay4  \\\n",
       "0  books: absurdistan, the republic, of mice and ...   \n",
       "1  i am die hard christopher moore fan. i don't r...   \n",
       "2  okay this is where the cultural matrix gets so...   \n",
       "3  bataille, celine, beckett. . . lynch, jarmusch...   \n",
       "4  music: bands, rappers, musicians at the moment...   \n",
       "\n",
       "                                              essay5  \\\n",
       "0                  food. water. cell phone. shelter.   \n",
       "1  delicious porkness in all of its glories. my b...   \n",
       "2  movement conversation creation contemplation t...   \n",
       "3                                                NaN   \n",
       "4                                                NaN   \n",
       "\n",
       "                        essay6  \\\n",
       "0  duality and humorous things   \n",
       "1                          NaN   \n",
       "2                          NaN   \n",
       "3   cats and german philosophy   \n",
       "4                          NaN   \n",
       "\n",
       "                                              essay7  \\\n",
       "0  trying to find someone to hang out with. i am ...   \n",
       "1                                                NaN   \n",
       "2  viewing. listening. dancing. talking. drinking...   \n",
       "3                                                NaN   \n",
       "4                                                NaN   \n",
       "\n",
       "                                              essay8  \\\n",
       "0  i am new to california and looking for someone...   \n",
       "1  i am very open and will share just about anyth...   \n",
       "2  when i was five years old, i was known as \"the...   \n",
       "3                                                NaN   \n",
       "4                                                NaN   \n",
       "\n",
       "                                              essay9  \n",
       "0  you want to be swept off your feet! you are ti...  \n",
       "1                                                NaN  \n",
       "2  you are bright, open, intense, silly, ironic, ...  \n",
       "3                              you feel so inclined.  \n",
       "4                                                NaN  \n",
       "\n",
       "[5 rows x 31 columns]"
      ]
     },
     "execution_count": 4,
     "metadata": {},
     "output_type": "execute_result"
    }
   ],
   "source": [
    "data.head()"
   ]
  },
  {
   "cell_type": "markdown",
   "id": "b86e2dfb",
   "metadata": {},
   "source": [
    "# Age, body type, education, jobs, pets and speaks"
   ]
  },
  {
   "cell_type": "markdown",
   "id": "d0008f0e",
   "metadata": {},
   "source": [
    "## Age"
   ]
  },
  {
   "cell_type": "code",
   "execution_count": 5,
   "id": "94c62127",
   "metadata": {},
   "outputs": [
    {
     "data": {
      "text/plain": [
       "26     3724\n",
       "27     3685\n",
       "28     3583\n",
       "25     3531\n",
       "29     3295\n",
       "24     3242\n",
       "30     3149\n",
       "31     2735\n",
       "23     2592\n",
       "32     2587\n",
       "33     2206\n",
       "22     1934\n",
       "34     1902\n",
       "35     1755\n",
       "36     1583\n",
       "37     1427\n",
       "38     1330\n",
       "21     1282\n",
       "39     1172\n",
       "42     1072\n",
       "40     1030\n",
       "41      980\n",
       "20      953\n",
       "43      858\n",
       "44      708\n",
       "45      643\n",
       "19      611\n",
       "46      578\n",
       "47      529\n",
       "48      481\n",
       "49      459\n",
       "50      437\n",
       "51      350\n",
       "52      344\n",
       "18      309\n",
       "56      271\n",
       "54      267\n",
       "55      265\n",
       "57      256\n",
       "53      252\n",
       "59      221\n",
       "58      197\n",
       "60      195\n",
       "61      176\n",
       "62      167\n",
       "63      138\n",
       "64      113\n",
       "65      109\n",
       "66      105\n",
       "67       66\n",
       "68       59\n",
       "69       31\n",
       "110       1\n",
       "109       1\n",
       "Name: age, dtype: int64"
      ]
     },
     "execution_count": 5,
     "metadata": {},
     "output_type": "execute_result"
    }
   ],
   "source": [
    "data.age.value_counts()"
   ]
  },
  {
   "cell_type": "code",
   "execution_count": 6,
   "id": "0787dbcf",
   "metadata": {},
   "outputs": [
    {
     "data": {
      "text/plain": [
       "False    59946\n",
       "Name: age, dtype: int64"
      ]
     },
     "execution_count": 6,
     "metadata": {},
     "output_type": "execute_result"
    }
   ],
   "source": [
    "data.age.isna().value_counts()"
   ]
  },
  {
   "cell_type": "markdown",
   "id": "f252a10a",
   "metadata": {},
   "source": [
    "### Nothing to work on age as there are no null values"
   ]
  },
  {
   "cell_type": "markdown",
   "id": "cb808399",
   "metadata": {},
   "source": [
    "## Body Type"
   ]
  },
  {
   "cell_type": "code",
   "execution_count": 7,
   "id": "5b8c9d3d",
   "metadata": {},
   "outputs": [
    {
     "data": {
      "text/plain": [
       "average           14652\n",
       "fit               12711\n",
       "athletic          11819\n",
       "thin               4711\n",
       "curvy              3924\n",
       "a little extra     2629\n",
       "skinny             1777\n",
       "full figured       1009\n",
       "overweight          444\n",
       "jacked              421\n",
       "used up             355\n",
       "rather not say      198\n",
       "Name: body_type, dtype: int64"
      ]
     },
     "execution_count": 7,
     "metadata": {},
     "output_type": "execute_result"
    }
   ],
   "source": [
    "data.body_type.value_counts()"
   ]
  },
  {
   "cell_type": "code",
   "execution_count": 8,
   "id": "f3928192",
   "metadata": {},
   "outputs": [
    {
     "data": {
      "text/plain": [
       "False    54650\n",
       "True      5296\n",
       "Name: body_type, dtype: int64"
      ]
     },
     "execution_count": 8,
     "metadata": {},
     "output_type": "execute_result"
    }
   ],
   "source": [
    "data.body_type.isna().value_counts()"
   ]
  },
  {
   "cell_type": "code",
   "execution_count": 9,
   "id": "e2c9a244",
   "metadata": {},
   "outputs": [],
   "source": [
    "data.body_type=data.body_type.fillna('rather not say')"
   ]
  },
  {
   "cell_type": "markdown",
   "id": "e4b9b13e",
   "metadata": {},
   "source": [
    "## Education\n",
    "\n"
   ]
  },
  {
   "cell_type": "code",
   "execution_count": 10,
   "id": "43ca067d",
   "metadata": {},
   "outputs": [
    {
     "data": {
      "text/plain": [
       "graduated from college/university    23959\n",
       "graduated from masters program        8961\n",
       "working on college/university         5712\n",
       "working on masters program            1683\n",
       "graduated from two-year college       1531\n",
       "graduated from high school            1428\n",
       "graduated from ph.d program           1272\n",
       "graduated from law school             1122\n",
       "working on two-year college           1074\n",
       "dropped out of college/university      995\n",
       "working on ph.d program                983\n",
       "college/university                     801\n",
       "graduated from space camp              657\n",
       "dropped out of space camp              523\n",
       "graduated from med school              446\n",
       "working on space camp                  445\n",
       "working on law school                  269\n",
       "two-year college                       222\n",
       "working on med school                  212\n",
       "dropped out of two-year college        191\n",
       "dropped out of masters program         140\n",
       "masters program                        136\n",
       "dropped out of ph.d program            127\n",
       "dropped out of high school             102\n",
       "high school                             96\n",
       "working on high school                  87\n",
       "space camp                              58\n",
       "ph.d program                            26\n",
       "law school                              19\n",
       "dropped out of law school               18\n",
       "dropped out of med school               12\n",
       "med school                              11\n",
       "Name: education, dtype: int64"
      ]
     },
     "execution_count": 10,
     "metadata": {},
     "output_type": "execute_result"
    }
   ],
   "source": [
    "data.education.value_counts()"
   ]
  },
  {
   "cell_type": "code",
   "execution_count": 11,
   "id": "dc1cdd66",
   "metadata": {},
   "outputs": [
    {
     "data": {
      "text/plain": [
       "False    53318\n",
       "True      6628\n",
       "Name: education, dtype: int64"
      ]
     },
     "execution_count": 11,
     "metadata": {},
     "output_type": "execute_result"
    }
   ],
   "source": [
    "data.education.isna().value_counts()"
   ]
  },
  {
   "cell_type": "code",
   "execution_count": 12,
   "id": "66175d3e",
   "metadata": {},
   "outputs": [],
   "source": [
    "data.education=data.education.fillna('graduated from college/university').value_counts()"
   ]
  },
  {
   "cell_type": "markdown",
   "id": "4c2c6b0a",
   "metadata": {},
   "source": [
    "## Jobs"
   ]
  },
  {
   "cell_type": "code",
   "execution_count": 13,
   "id": "a814891a",
   "metadata": {},
   "outputs": [
    {
     "data": {
      "text/plain": [
       "other                                7589\n",
       "student                              4882\n",
       "science / tech / engineering         4848\n",
       "computer / hardware / software       4709\n",
       "artistic / musical / writer          4439\n",
       "sales / marketing / biz dev          4391\n",
       "medicine / health                    3680\n",
       "education / academia                 3513\n",
       "executive / management               2373\n",
       "banking / financial / real estate    2266\n",
       "entertainment / media                2250\n",
       "law / legal services                 1381\n",
       "hospitality / travel                 1364\n",
       "construction / craftsmanship         1021\n",
       "clerical / administrative             805\n",
       "political / government                708\n",
       "rather not say                        436\n",
       "transportation                        366\n",
       "unemployed                            273\n",
       "retired                               250\n",
       "military                              204\n",
       "Name: job, dtype: int64"
      ]
     },
     "execution_count": 13,
     "metadata": {},
     "output_type": "execute_result"
    }
   ],
   "source": [
    "data.job.value_counts()"
   ]
  },
  {
   "cell_type": "code",
   "execution_count": 14,
   "id": "5d3e1341",
   "metadata": {},
   "outputs": [
    {
     "data": {
      "text/plain": [
       "False    51748\n",
       "True      8198\n",
       "Name: job, dtype: int64"
      ]
     },
     "execution_count": 14,
     "metadata": {},
     "output_type": "execute_result"
    }
   ],
   "source": [
    "data.job.isna().value_counts()"
   ]
  },
  {
   "cell_type": "code",
   "execution_count": 15,
   "id": "b9c650ea",
   "metadata": {},
   "outputs": [
    {
     "data": {
      "text/plain": [
       "<AxesSubplot:>"
      ]
     },
     "execution_count": 15,
     "metadata": {},
     "output_type": "execute_result"
    },
    {
     "data": {
      "image/png": "[encoded data removed]",
      "text/plain": [
       "<Figure size 432x288 with 1 Axes>"
      ]
     },
     "metadata": {
      "needs_background": "light"
     },
     "output_type": "display_data"
    }
   ],
   "source": [
    "data.job.value_counts().plot(kind='bar')"
   ]
  },
  {
   "cell_type": "code",
   "execution_count": 16,
   "id": "afbc9b5f",
   "metadata": {},
   "outputs": [],
   "source": [
    "data.job=data.job.fillna('other')"
   ]
  },
  {
   "cell_type": "code",
   "execution_count": 17,
   "id": "3ac42ff8",
   "metadata": {},
   "outputs": [
    {
     "data": {
      "text/plain": [
       "<AxesSubplot:>"
      ]
     },
     "execution_count": 17,
     "metadata": {},
     "output_type": "execute_result"
    },
    {
     "data": {
      "image/png": "[encoded data removed]",
      "text/plain": [
       "<Figure size 432x288 with 1 Axes>"
      ]
     },
     "metadata": {
      "needs_background": "light"
     },
     "output_type": "display_data"
    }
   ],
   "source": [
    "data.job.value_counts().plot(kind='bar')"
   ]
  },
  {
   "cell_type": "markdown",
   "id": "7c9a34e6",
   "metadata": {},
   "source": [
    "## pets"
   ]
  },
  {
   "cell_type": "code",
   "execution_count": 18,
   "id": "38b700cd",
   "metadata": {},
   "outputs": [
    {
     "data": {
      "text/plain": [
       "likes dogs and likes cats          14814\n",
       "likes dogs                          7224\n",
       "likes dogs and has cats             4313\n",
       "has dogs                            4134\n",
       "has dogs and likes cats             2333\n",
       "likes dogs and dislikes cats        2029\n",
       "has dogs and has cats               1474\n",
       "has cats                            1406\n",
       "likes cats                          1063\n",
       "has dogs and dislikes cats           552\n",
       "dislikes dogs and likes cats         240\n",
       "dislikes dogs and dislikes cats      196\n",
       "dislikes cats                        122\n",
       "dislikes dogs and has cats            81\n",
       "dislikes dogs                         44\n",
       "Name: pets, dtype: int64"
      ]
     },
     "execution_count": 18,
     "metadata": {},
     "output_type": "execute_result"
    }
   ],
   "source": [
    "data.pets.value_counts()"
   ]
  },
  {
   "cell_type": "code",
   "execution_count": 19,
   "id": "457d8061",
   "metadata": {},
   "outputs": [
    {
     "data": {
      "text/plain": [
       "False    40025\n",
       "True     19921\n",
       "Name: pets, dtype: int64"
      ]
     },
     "execution_count": 19,
     "metadata": {},
     "output_type": "execute_result"
    }
   ],
   "source": [
    "data.pets.isna().value_counts()"
   ]
  },
  {
   "cell_type": "code",
   "execution_count": 20,
   "id": "b90074ec",
   "metadata": {},
   "outputs": [],
   "source": [
    "data.pets=data.pets.fillna('likes dogs and likes cats')"
   ]
  },
  {
   "cell_type": "code",
   "execution_count": 21,
   "id": "cedc1705",
   "metadata": {
    "scrolled": true
   },
   "outputs": [
    {
     "data": {
      "text/plain": [
       "likes dogs and likes cats          34735\n",
       "likes dogs                          7224\n",
       "likes dogs and has cats             4313\n",
       "has dogs                            4134\n",
       "has dogs and likes cats             2333\n",
       "likes dogs and dislikes cats        2029\n",
       "has dogs and has cats               1474\n",
       "has cats                            1406\n",
       "likes cats                          1063\n",
       "has dogs and dislikes cats           552\n",
       "dislikes dogs and likes cats         240\n",
       "dislikes dogs and dislikes cats      196\n",
       "dislikes cats                        122\n",
       "dislikes dogs and has cats            81\n",
       "dislikes dogs                         44\n",
       "Name: pets, dtype: int64"
      ]
     },
     "execution_count": 21,
     "metadata": {},
     "output_type": "execute_result"
    }
   ],
   "source": [
    "data.pets.value_counts()"
   ]
  },
  {
   "cell_type": "markdown",
   "id": "1379022b",
   "metadata": {},
   "source": [
    "## speaks"
   ]
  },
  {
   "cell_type": "code",
   "execution_count": 22,
   "id": "65e2d49b",
   "metadata": {},
   "outputs": [
    {
     "data": {
      "text/plain": [
       "english                                                                21828\n",
       "english (fluently)                                                      6628\n",
       "english (fluently), spanish (poorly)                                    2059\n",
       "english (fluently), spanish (okay)                                      1917\n",
       "english (fluently), spanish (fluently)                                  1288\n",
       "                                                                       ...  \n",
       "english (fluently), urdu (poorly), japanese (poorly), french (okay)        1\n",
       "english, spanish, hindi, c++                                               1\n",
       "english (fluently), japanese (okay), thai (okay), chinese (poorly)         1\n",
       "english (fluently), french (okay), italian (okay), hebrew (okay)           1\n",
       "english (fluently), french, farsi                                          1\n",
       "Name: speaks, Length: 7647, dtype: int64"
      ]
     },
     "execution_count": 22,
     "metadata": {},
     "output_type": "execute_result"
    }
   ],
   "source": [
    "data.speaks.value_counts()"
   ]
  },
  {
   "cell_type": "code",
   "execution_count": 23,
   "id": "8ec24164",
   "metadata": {},
   "outputs": [
    {
     "data": {
      "text/plain": [
       "False    59896\n",
       "True        50\n",
       "Name: speaks, dtype: int64"
      ]
     },
     "execution_count": 23,
     "metadata": {},
     "output_type": "execute_result"
    }
   ],
   "source": [
    "data.speaks.isna().value_counts()"
   ]
  },
  {
   "cell_type": "code",
   "execution_count": 24,
   "id": "e078a426",
   "metadata": {},
   "outputs": [],
   "source": [
    "data.speaks=data.speaks.fillna('english')"
   ]
  },
  {
   "cell_type": "code",
   "execution_count": 25,
   "id": "b56636b7",
   "metadata": {
    "scrolled": true
   },
   "outputs": [
    {
     "data": {
      "text/plain": [
       "english                                                                21878\n",
       "english (fluently)                                                      6628\n",
       "english (fluently), spanish (poorly)                                    2059\n",
       "english (fluently), spanish (okay)                                      1917\n",
       "english (fluently), spanish (fluently)                                  1288\n",
       "                                                                       ...  \n",
       "english (fluently), urdu (poorly), japanese (poorly), french (okay)        1\n",
       "english, spanish, hindi, c++                                               1\n",
       "english (fluently), japanese (okay), thai (okay), chinese (poorly)         1\n",
       "english (fluently), french (okay), italian (okay), hebrew (okay)           1\n",
       "english (fluently), french, farsi                                          1\n",
       "Name: speaks, Length: 7647, dtype: int64"
      ]
     },
     "execution_count": 25,
     "metadata": {},
     "output_type": "execute_result"
    }
   ],
   "source": [
    "data.speaks.value_counts()"
   ]
  },
  {
   "cell_type": "code",
   "execution_count": 26,
   "id": "1d2cefc9",
   "metadata": {},
   "outputs": [],
   "source": [
    "def clean (text):\n",
    "    for punctuation in string.punctuation:\n",
    "        text = text.replace(punctuation, ' ') # Remove Punctuation\n",
    "    lowercased = text.lower() # Lower Case\n",
    "    tokenized = word_tokenize(lowercased) # Tokenize\n",
    "    words_only = [word for word in tokenized if word.isalpha()] # Remove numbers\n",
    "    stop_words = set(stopwords.words('english')) # Make stopword list\n",
    "    without_stopwords = [word for word in words_only if not word in stop_words] # Remove Stop Words\n",
    "    lemma=WordNetLemmatizer() # Initiate Lemmatizer\n",
    "    lemmatized = [lemma.lemmatize(word) for word in without_stopwords] # Lemmatize\n",
    "    return lemmatized"
   ]
  },
  {
   "cell_type": "code",
   "execution_count": 27,
   "id": "0dfb47a7",
   "metadata": {},
   "outputs": [],
   "source": [
    "def primary_language(text):\n",
    "    primary_lang=[]\n",
    "    number_of_languages=[]\n",
    "    counter=0\n",
    "    if 'fluently' in text:\n",
    "        primary_lang.append(text[text.index('fluently')-1])\n",
    "        counter=counter+1\n",
    "    else:\n",
    "        primary_lang.append(text[0])\n",
    "\n",
    "    if 'poorly' in text:\n",
    "        counter=counter+1\n",
    "    if 'okay' in text:\n",
    "        counter=counter+1\n",
    "    number_of_languages.append(len(text)-counter)\n",
    "    return primary_lang,number_of_languages"
   ]
  },
  {
   "cell_type": "code",
   "execution_count": 28,
   "id": "8afae218",
   "metadata": {},
   "outputs": [],
   "source": [
    "data['speaks_cleaned']=data.speaks.apply(lambda x:clean(x))"
   ]
  },
  {
   "cell_type": "code",
   "execution_count": 29,
   "id": "46b7de5d",
   "metadata": {
    "scrolled": true
   },
   "outputs": [],
   "source": [
    "data['primary_language']=data.speaks_cleaned.apply(lambda x:primary_language(x)).apply(pd.Series)[0]"
   ]
  },
  {
   "cell_type": "code",
   "execution_count": 30,
   "id": "b98c2221",
   "metadata": {},
   "outputs": [],
   "source": [
    "data['number_of_languages']=data.speaks_cleaned.apply(lambda x:primary_language(x)).apply(pd.Series)[1]"
   ]
  },
  {
   "cell_type": "code",
   "execution_count": 31,
   "id": "06c9fdab",
   "metadata": {},
   "outputs": [],
   "source": [
    "data.primary_language=data.primary_language.apply(lambda x:''.join(x))"
   ]
  },
  {
   "cell_type": "code",
   "execution_count": 32,
   "id": "87b97f30",
   "metadata": {},
   "outputs": [],
   "source": [
    "data.number_of_languages=data.number_of_languages.apply(lambda x: x[0])"
   ]
  },
  {
   "cell_type": "markdown",
   "id": "74f3542c",
   "metadata": {},
   "source": [
    "# Essays"
   ]
  },
  {
   "cell_type": "code",
   "execution_count": 33,
   "id": "4358d698",
   "metadata": {},
   "outputs": [],
   "source": [
    "data['essay0']=data['essay0'].fillna('')\n",
    "data['essay0_cleaned']=data['essay0'].apply(lambda x:clean(x))\n",
    "data['essay0_cleaned']=data['essay0_cleaned'].apply(lambda x:' '.join(x))"
   ]
  },
  {
   "cell_type": "code",
   "execution_count": 34,
   "id": "76b46930",
   "metadata": {},
   "outputs": [],
   "source": [
    "data['essay1']=data['essay1'].fillna('')\n",
    "data['essay1_cleaned']=data['essay1'].apply(lambda x:clean(x))\n",
    "data['essay1_cleaned']=data['essay1_cleaned'].apply(lambda x:' '.join(x))"
   ]
  },
  {
   "cell_type": "code",
   "execution_count": 35,
   "id": "4c746b6d",
   "metadata": {},
   "outputs": [],
   "source": [
    "data['essay2']=data['essay2'].fillna('')\n",
    "data['essay2_cleaned']=data['essay2'].apply(lambda x:clean(x))\n",
    "data['essay2_cleaned']=data['essay2_cleaned'].apply(lambda x:' '.join(x))"
   ]
  },
  {
   "cell_type": "code",
   "execution_count": 36,
   "id": "5f96edb0",
   "metadata": {},
   "outputs": [],
   "source": [
    "data['essay3']=data['essay3'].fillna('')\n",
    "data['essay3_cleaned']=data['essay3'].apply(lambda x:clean(x))\n",
    "data['essay3_cleaned']=data['essay3_cleaned'].apply(lambda x:' '.join(x))"
   ]
  },
  {
   "cell_type": "code",
   "execution_count": 37,
   "id": "09436e60",
   "metadata": {},
   "outputs": [],
   "source": [
    "data['essay4']=data['essay4'].fillna('')\n",
    "data['essay4_cleaned']=data['essay4'].apply(lambda x:clean(x))\n",
    "data['essay4_cleaned']=data['essay4_cleaned'].apply(lambda x:' '.join(x))"
   ]
  },
  {
   "cell_type": "code",
   "execution_count": 38,
   "id": "954dfb78",
   "metadata": {},
   "outputs": [],
   "source": [
    "data['essay5']=data['essay5'].fillna('')\n",
    "data['essay5_cleaned']=data['essay5'].apply(lambda x:clean(x))\n",
    "data['essay5_cleaned']=data['essay5_cleaned'].apply(lambda x:' '.join(x))"
   ]
  },
  {
   "cell_type": "code",
   "execution_count": 39,
   "id": "0cc2e595",
   "metadata": {},
   "outputs": [],
   "source": [
    "data['essay6']=data['essay6'].fillna('')\n",
    "data['essay6_cleaned']=data['essay6'].apply(lambda x:clean(x))\n",
    "data['essay6_cleaned']=data['essay6_cleaned'].apply(lambda x:' '.join(x))"
   ]
  },
  {
   "cell_type": "code",
   "execution_count": 40,
   "id": "bde868af",
   "metadata": {
    "scrolled": true
   },
   "outputs": [],
   "source": [
    "data['essay7']=data['essay7'].fillna('')\n",
    "data['essay7_cleaned']=data['essay7'].apply(lambda x:clean(x))\n",
    "data['essay7_cleaned']=data['essay7_cleaned'].apply(lambda x:' '.join(x))"
   ]
  },
  {
   "cell_type": "code",
   "execution_count": 41,
   "id": "97e46c1c",
   "metadata": {},
   "outputs": [],
   "source": [
    "data['essay8']=data['essay8'].fillna('')\n",
    "data['essay8_cleaned']=data['essay8'].apply(lambda x:clean(x))\n",
    "data['essay8_cleaned']=data['essay8_cleaned'].apply(lambda x:' '.join(x))"
   ]
  },
  {
   "cell_type": "code",
   "execution_count": 42,
   "id": "b3fe92af",
   "metadata": {},
   "outputs": [],
   "source": [
    "data['essay9']=data['essay9'].fillna('')\n",
    "data['essay9_cleaned']=data['essay9'].apply(lambda x:clean(x))\n",
    "data['essay9_cleaned']=data['essay9_cleaned'].apply(lambda x:' '.join(x))"
   ]
  },
  {
   "cell_type": "code",
   "execution_count": 43,
   "id": "b1c535b7",
   "metadata": {},
   "outputs": [
    {
     "data": {
      "text/plain": [
       "0        duality humorous thingtrying find someone hang...\n",
       "1                                      open share anything\n",
       "2        viewing listening dancing talking drinking per...\n",
       "3                       cat german philosophyfeel inclined\n",
       "4                                                         \n",
       "                               ...                        \n",
       "59941    writing bookrunning dog finishing work week lo...\n",
       "59942    thinking bus work usually seat across smell li...\n",
       "59943    aside work improve homeenjoying friendly conve...\n",
       "59944    make someone chucklewould day everydays friday...\n",
       "59945    sex people amazing everything fucked everythin...\n",
       "Length: 59946, dtype: object"
      ]
     },
     "execution_count": 43,
     "metadata": {},
     "output_type": "execute_result"
    }
   ],
   "source": [
    "data['essay']=data['essay0_cleaned']+data['essay1_cleaned']+data['essay2_cleaned']+data['essay3_cleaned']+data['essay4_cleaned']+data['essay5_cleaned']+data['essay6_cleaned']\n",
    "+data['essay6_cleaned']+data['essay7_cleaned']+data['essay8_cleaned']+data['essay9_cleaned']"
   ]
  },
  {
   "cell_type": "code",
   "execution_count": null,
   "id": "0b29e8c7",
   "metadata": {
    "scrolled": true
   },
   "outputs": [],
   "source": [
    "from sklearn.decomposition import LatentDirichletAllocation\n",
    "from sklearn.feature_extraction.text import CountVectorizer\n",
    "n_components=10\n",
    "vectorizer = CountVectorizer(max_df=0.5,ngram_range=(2,2))\n",
    "\n",
    "data_vectorized = vectorizer.fit_transform(data['essay'].iloc[:10000])\n",
    "\n",
    "lda_model = LatentDirichletAllocation(n_components=n_components,max_iter=300,n_jobs=-2)\n",
    "\n",
    "lda_vectors = lda_model.fit_transform(data_vectorized)"
   ]
  },
  {
   "cell_type": "code",
   "execution_count": null,
   "id": "11c177ac",
   "metadata": {},
   "outputs": [],
   "source": [
    "document_mixture=pd.DataFrame(lda_vectors,columns=[f\"topic{i+1}\" for i in range(n_components)],\n",
    "                              index=data.essay0_cleaned.iloc[:10000])\n",
    "document_mixture"
   ]
  },
  {
   "cell_type": "code",
   "execution_count": null,
   "id": "fab07045",
   "metadata": {},
   "outputs": [],
   "source": [
    "topic_mixture=pd.DataFrame(lda_model.components_,columns=vectorizer.get_feature_names_out(),index=[f\"topic{i+1}\" for i in range(n_components)])"
   ]
  },
  {
   "cell_type": "code",
   "execution_count": null,
   "id": "3de328a4",
   "metadata": {},
   "outputs": [],
   "source": [
    "topic_mixture.loc[\"topic1\"].sort_values(ascending=False)"
   ]
  },
  {
   "cell_type": "code",
   "execution_count": null,
   "id": "4b1c0d32",
   "metadata": {},
   "outputs": [],
   "source": []
  }
 ],
 "metadata": {
  "kernelspec": {
   "display_name": "Python 3 (ipykernel)",
   "language": "python",
   "name": "python3"
  },
  "language_info": {
   "codemirror_mode": {
    "name": "ipython",
    "version": 3
   },
   "file_extension": ".py",
   "mimetype": "text/x-python",
   "name": "python",
   "nbconvert_exporter": "python",
   "pygments_lexer": "ipython3",
   "version": "3.8.12"
  },
  "toc": {
   "base_numbering": 1,
   "nav_menu": {},
   "number_sections": true,
   "sideBar": true,
   "skip_h1_title": false,
   "title_cell": "Table of Contents",
   "title_sidebar": "Contents",
   "toc_cell": false,
   "toc_position": {},
   "toc_section_display": true,
   "toc_window_display": false
  },
  "varInspector": {
   "cols": {
    "lenName": 16,
    "lenType": 16,
    "lenVar": 40
   },
   "kernels_config": {
    "python": {
     "delete_cmd_postfix": "",
     "delete_cmd_prefix": "del ",
     "library": "var_list.py",
     "varRefreshCmd": "print(var_dic_list())"
    },
    "r": {
     "delete_cmd_postfix": ") ",
     "delete_cmd_prefix": "rm(",
     "library": "var_list.r",
     "varRefreshCmd": "cat(var_dic_list()) "
    }
   },
   "types_to_exclude": [
    "module",
    "function",
    "builtin_function_or_method",
    "instance",
    "_Feature"
   ],
   "window_display": false
  }
 },
 "nbformat": 4,
 "nbformat_minor": 5
}
